{
 "cells": [
  {
   "cell_type": "code",
   "execution_count": 11,
   "metadata": {},
   "outputs": [],
   "source": [
    "def GCD(a: int, b: int) -> int:\n",
    "    if b > a:\n",
    "        a, b = b, a\n",
    "\n",
    "    while b != 0:\n",
    "        temp = b\n",
    "        b = a % b\n",
    "        a = temp\n",
    "\n",
    "    return a\n",
    "\n",
    "def LCM(a: int, b: int) -> int:\n",
    "    return (a * b) / GCD(a, b)\n",
    "\n",
    "def fractions(lst: tuple[int]) -> tuple[int]:\n",
    "    assert len(lst) == 4\n",
    "\n",
    "    lcm = LCM(lst[1], lst[3])\n",
    "\n",
    "    num = lst[0] * (lcm / lst[1]) + lst[2] * (lcm / lst[3])\n",
    "    den = lcm\n",
    "\n",
    "    gcd = GCD(num, den)\n",
    "    num /= gcd\n",
    "    den /= gcd\n",
    "\n",
    "    return int(num), int(den)"
   ]
  },
  {
   "cell_type": "code",
   "execution_count": 12,
   "metadata": {},
   "outputs": [
    {
     "name": "stdout",
     "output_type": "stream",
     "text": [
      "1 1\n"
     ]
    }
   ],
   "source": [
    "lst = tuple(map(int, input().split(' ')))\n",
    "assert len(lst) == 4\n",
    "\n",
    "print(' '.join(str(num) for num in fractions(lst)))"
   ]
  },
  {
   "cell_type": "code",
   "execution_count": null,
   "metadata": {},
   "outputs": [],
   "source": []
  }
 ],
 "metadata": {
  "kernelspec": {
   "display_name": "Python 3",
   "language": "python",
   "name": "python3"
  },
  "language_info": {
   "codemirror_mode": {
    "name": "ipython",
    "version": 3
   },
   "file_extension": ".py",
   "mimetype": "text/x-python",
   "name": "python",
   "nbconvert_exporter": "python",
   "pygments_lexer": "ipython3",
   "version": "3.10.12"
  }
 },
 "nbformat": 4,
 "nbformat_minor": 2
}
