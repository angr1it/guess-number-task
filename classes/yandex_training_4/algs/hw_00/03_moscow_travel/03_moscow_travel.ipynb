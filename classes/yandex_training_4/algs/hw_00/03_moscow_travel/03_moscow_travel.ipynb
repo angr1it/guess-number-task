{
 "cells": [
  {
   "cell_type": "code",
   "execution_count": 53,
   "metadata": {},
   "outputs": [],
   "source": [
    "import math\n",
    "\n",
    "def calcArcLength(radius: float, angle: float) -> float:\n",
    "    return radius * angle\n",
    "\n",
    "def calcAngle(first: tuple, second: tuple)  -> float:\n",
    "    angle = math.atan2(first[1], first[0]) - math.atan2(second[1], second[0])\n",
    "\n",
    "    return abs(angle)\n",
    "\n",
    "def calcRadius(coords: tuple) -> float:\n",
    "    return math.sqrt(coords[0] ** 2 + coords[1] ** 2)"
   ]
  },
  {
   "cell_type": "code",
   "execution_count": 55,
   "metadata": {},
   "outputs": [
    {
     "name": "stdout",
     "output_type": "stream",
     "text": [
      "10.000000000000\n"
     ]
    }
   ],
   "source": [
    "nums = tuple(map(int, input().split(' ')))\n",
    "assert len(nums) == 4\n",
    "\n",
    "first = (nums[0], nums[1])\n",
    "second = (nums[2], nums[3])\n",
    "\n",
    "r1 = calcRadius(first)\n",
    "r2 = calcRadius(second)\n",
    "\n",
    "angle = calcAngle(first, second)\n",
    "arc = calcArcLength(min(r1, r2), angle)\n",
    "diff = abs(r1 - r2)\n",
    "\n",
    "result = min(r1 + r2, diff + arc)\n",
    "\n",
    "print(f'{result:.12f}')"
   ]
  }
 ],
 "metadata": {
  "kernelspec": {
   "display_name": "Python 3",
   "language": "python",
   "name": "python3"
  },
  "language_info": {
   "codemirror_mode": {
    "name": "ipython",
    "version": 3
   },
   "file_extension": ".py",
   "mimetype": "text/x-python",
   "name": "python",
   "nbconvert_exporter": "python",
   "pygments_lexer": "ipython3",
   "version": "3.10.12"
  }
 },
 "nbformat": 4,
 "nbformat_minor": 2
}
