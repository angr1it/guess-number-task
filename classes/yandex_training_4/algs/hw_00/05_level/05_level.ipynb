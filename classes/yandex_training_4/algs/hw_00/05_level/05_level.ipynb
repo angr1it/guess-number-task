{
 "cells": [
  {
   "cell_type": "code",
   "execution_count": 17,
   "metadata": {},
   "outputs": [],
   "source": [
    "def choice(scores: tuple) -> list:\n",
    "    N = len(scores)\n",
    "    sums = [scores[0]]\n",
    "    for i in range(1, N):\n",
    "        sums.append(sums[i-1] + scores[i])\n",
    "\n",
    "    levels = [\n",
    "        sums[N - 1] - scores[0] * N,\n",
    "        *(scores[i]*i  - sums[i-1] + sums[N-1] - sums[i] - scores[i] * (N-1-i) for i in range(1, N - 1)),\n",
    "        scores[N - 1] * N - sums[N - 1]\n",
    "    ]\n",
    "\n",
    "    return levels"
   ]
  },
  {
   "cell_type": "code",
   "execution_count": 20,
   "metadata": {},
   "outputs": [
    {
     "name": "stdout",
     "output_type": "stream",
     "text": [
      "28 16 15 17 32\n"
     ]
    }
   ],
   "source": [
    "N = int(input())\n",
    "scores = tuple(map(int, input().split()))\n",
    "assert len(scores) == N\n",
    "\n",
    "levels = choice(scores)\n",
    "print(\" \".join(str(x) for x in levels))"
   ]
  },
  {
   "cell_type": "code",
   "execution_count": null,
   "metadata": {},
   "outputs": [],
   "source": []
  }
 ],
 "metadata": {
  "kernelspec": {
   "display_name": "Python 3",
   "language": "python",
   "name": "python3"
  },
  "language_info": {
   "codemirror_mode": {
    "name": "ipython",
    "version": 3
   },
   "file_extension": ".py",
   "mimetype": "text/x-python",
   "name": "python",
   "nbconvert_exporter": "python",
   "pygments_lexer": "ipython3",
   "version": "3.10.12"
  }
 },
 "nbformat": 4,
 "nbformat_minor": 2
}
