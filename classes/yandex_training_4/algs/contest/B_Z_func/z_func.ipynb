{
 "cells": [
  {
   "cell_type": "code",
   "execution_count": 12,
   "metadata": {},
   "outputs": [],
   "source": [
    "def z_func(string: str) -> list:\n",
    "    if len(string) == 1:\n",
    "        return [1]\n",
    "\n",
    "    result = []\n",
    "\n",
    "    for right in range(0, len(string)):\n",
    "        if string[0] == string[right]:\n",
    "            k = 1\n",
    "            while right >= k and string[k] == string[right - k]:\n",
    "                k += 1\n",
    "        else:\n",
    "            k = 0\n",
    "\n",
    "        result.append(k)\n",
    "\n",
    "    return result\n",
    "            \n",
    "        "
   ]
  },
  {
   "cell_type": "code",
   "execution_count": 13,
   "metadata": {},
   "outputs": [
    {
     "name": "stdout",
     "output_type": "stream",
     "text": [
      "1 0 0 0 0 0 0 0 0 10 0 1 0 0 0 0 1 0 0 0 0 0 0 0 0 0 0 0 0 0 0 0 0 0 0 0 0 0 0 0 0 0 0 1 1 0 0 0 0\n"
     ]
    }
   ],
   "source": [
    "N = input()\n",
    "string = input()\n",
    "print(' '.join(str(x) for x in z_func(string)))"
   ]
  },
  {
   "cell_type": "code",
   "execution_count": null,
   "metadata": {},
   "outputs": [],
   "source": []
  }
 ],
 "metadata": {
  "kernelspec": {
   "display_name": "Python 3",
   "language": "python",
   "name": "python3"
  },
  "language_info": {
   "codemirror_mode": {
    "name": "ipython",
    "version": 3
   },
   "file_extension": ".py",
   "mimetype": "text/x-python",
   "name": "python",
   "nbconvert_exporter": "python",
   "pygments_lexer": "ipython3",
   "version": "3.10.12"
  }
 },
 "nbformat": 4,
 "nbformat_minor": 2
}
