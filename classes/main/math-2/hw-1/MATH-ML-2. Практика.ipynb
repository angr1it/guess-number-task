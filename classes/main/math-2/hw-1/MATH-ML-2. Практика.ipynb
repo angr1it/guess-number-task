{
  "cells": [
    {
      "cell_type": "markdown",
      "id": "b054bd88",
      "metadata": {
        "id": "b054bd88"
      },
      "source": [
        "# <center> Линейная алгебра в контексте линейных методов. Практика.\n",
        "\n",
        "## <center> Прогнозирование выработки газа на скважинах."
      ]
    },
    {
      "cell_type": "markdown",
      "id": "325bc80b",
      "metadata": {
        "id": "325bc80b"
      },
      "source": [
        "## Постановка задачи"
      ]
    },
    {
      "cell_type": "markdown",
      "id": "8247bd54",
      "metadata": {
        "id": "8247bd54"
      },
      "source": [
        "У Василия, основателя компании «Газ-Таз-Ваз-Нефть», дела идут в гору: у него уже функционирует 200 скважин для добычи газа. В этом году он открывает 30 новых скважин. Однако в целях оптимизации расходов и повышения дохода Василию необходимо оценить, сколько денег будет приносить ему каждая из скважин, а также понять, какие факторы (параметры скважин) потенциально сильнее всего повлияют на объём добычи газа. Для этого Василий решил нанять вас как специалиста в области Data Science.\n",
        "\n",
        "Василий представляет вам набор данных о добыче газа на своих скважинах. Файл с данными вы можете скачать на платформе.\n",
        "\n",
        "**Признаки в данных:**\n",
        "\n",
        "* Well — идентификатор скважины;\n",
        "* Por — пористость скважины (%);\n",
        "* Perm — проницаемость скважины;\n",
        "* AI — акустический импеданс ($кг/м^2 * 10^6$);\n",
        "* Brittle — коэффициент хрупкости скважины (%);\n",
        "* TOC — общий органический углерод (%);\n",
        "* VR — коэффициент отражения витринита (%);\n",
        "* Prod — добыча газа в сутки (млн. кубических футов).\n",
        "\n",
        "**Ваша задача** — построить регрессионную модель, которая прогнозирует выработку газа на скважине (целевой признак — Prod) на основе остальных характеристик скважины, и проинтерпретировать результаты вашей модели.\n",
        "\n",
        "Разделим задачу на две части:\n",
        "* В первой мы построим простейшую модель линейной регрессии, проанализируем результаты её работы и выберем наиболее значимые факторы для прогнозирования.\n",
        "* Во второй мы займёмся построением модели полиномиальной регрессии с регуляризацией и посмотрим на итоговые результаты моделирования.\n"
      ]
    },
    {
      "cell_type": "markdown",
      "id": "d67d069e",
      "metadata": {
        "id": "d67d069e"
      },
      "source": [
        "Импортируем необходимые библиотеки:"
      ]
    },
    {
      "cell_type": "code",
      "execution_count": 39,
      "id": "83a555bc-8dff-4b7e-bba1-cd4f4a9e69b2",
      "metadata": {
        "id": "83a555bc-8dff-4b7e-bba1-cd4f4a9e69b2"
      },
      "outputs": [],
      "source": [
        "import json\n",
        "\n",
        "# Импорт библиотек\n",
        "import numpy as np # для работы с массивами\n",
        "import pandas as pd # для работы с DataFrame \n",
        "import seaborn as sns # библиотека для визуализации статистических данных\n",
        "import matplotlib.pyplot as plt # для построения графиков\n",
        "\n",
        "from sklearn.metrics import mean_absolute_percentage_error, mean_absolute_error\n",
        "from sklearn.linear_model import LinearRegression\n",
        "\n",
        "from sklearn.preprocessing import PolynomialFeatures, StandardScaler\n",
        "from sklearn.linear_model import LinearRegression, Lasso, Ridge, ElasticNet\n",
        "from sklearn.model_selection import cross_validate\n",
        "\n",
        "\n",
        "%matplotlib inline"
      ]
    },
    {
      "cell_type": "code",
      "execution_count": 40,
      "id": "a874ea32",
      "metadata": {},
      "outputs": [],
      "source": [
        "STATE = 42"
      ]
    },
    {
      "cell_type": "code",
      "execution_count": 41,
      "id": "306c8c7c",
      "metadata": {},
      "outputs": [],
      "source": [
        "# Сохранение результата для сравнения\n",
        "\n",
        "results = {}\n",
        "\n",
        "\n",
        "def model_save_results(\n",
        "    model, X, y, model_name: str, folds: int = 5, poly=\"Нет\", params=None\n",
        "):\n",
        "\n",
        "    cv_results = cross_validate(\n",
        "        model,\n",
        "        X,\n",
        "        y,\n",
        "        scoring=\"neg_mean_absolute_percentage_error\",\n",
        "        cv=folds,\n",
        "        return_train_score=True,\n",
        "    )\n",
        "    train_score = -cv_results[\"train_score\"].mean() * 100\n",
        "    test_score = -cv_results[\"test_score\"].mean() * 100\n",
        "\n",
        "    print(f\"MAPE on train: {train_score:.2f}%\")\n",
        "    print(f\"MAPE on test: {test_score:.2f}%\")\n",
        "\n",
        "    results[model_name] = {\n",
        "        \"train_score\": train_score,\n",
        "        \"test_score\": test_score,\n",
        "        \"poly\": poly,\n",
        "        \"params\": json.dumps(params),\n",
        "    }"
      ]
    },
    {
      "cell_type": "markdown",
      "id": "e689ddaf",
      "metadata": {
        "id": "e689ddaf"
      },
      "source": [
        "Прочитаем исходные данные:"
      ]
    },
    {
      "cell_type": "code",
      "execution_count": 42,
      "id": "b7b5cd9b-703f-4dbc-a6e3-61d583eafcac",
      "metadata": {
        "colab": {
          "base_uri": "https://localhost:8080/",
          "height": 206
        },
        "id": "b7b5cd9b-703f-4dbc-a6e3-61d583eafcac",
        "outputId": "d4e99a48-2a0d-4edd-f86c-617c44bf36d2"
      },
      "outputs": [
        {
          "data": {
            "text/html": [
              "<div>\n",
              "<style scoped>\n",
              "    .dataframe tbody tr th:only-of-type {\n",
              "        vertical-align: middle;\n",
              "    }\n",
              "\n",
              "    .dataframe tbody tr th {\n",
              "        vertical-align: top;\n",
              "    }\n",
              "\n",
              "    .dataframe thead th {\n",
              "        text-align: right;\n",
              "    }\n",
              "</style>\n",
              "<table border=\"1\" class=\"dataframe\">\n",
              "  <thead>\n",
              "    <tr style=\"text-align: right;\">\n",
              "      <th></th>\n",
              "      <th>Well</th>\n",
              "      <th>Por</th>\n",
              "      <th>Perm</th>\n",
              "      <th>AI</th>\n",
              "      <th>Brittle</th>\n",
              "      <th>TOC</th>\n",
              "      <th>VR</th>\n",
              "      <th>Prod</th>\n",
              "    </tr>\n",
              "  </thead>\n",
              "  <tbody>\n",
              "    <tr>\n",
              "      <th>0</th>\n",
              "      <td>1</td>\n",
              "      <td>12.08</td>\n",
              "      <td>2.92</td>\n",
              "      <td>2.80</td>\n",
              "      <td>81.40</td>\n",
              "      <td>1.16</td>\n",
              "      <td>2.31</td>\n",
              "      <td>4165.196191</td>\n",
              "    </tr>\n",
              "    <tr>\n",
              "      <th>1</th>\n",
              "      <td>2</td>\n",
              "      <td>12.38</td>\n",
              "      <td>3.53</td>\n",
              "      <td>3.22</td>\n",
              "      <td>46.17</td>\n",
              "      <td>0.89</td>\n",
              "      <td>1.88</td>\n",
              "      <td>3561.146205</td>\n",
              "    </tr>\n",
              "    <tr>\n",
              "      <th>2</th>\n",
              "      <td>3</td>\n",
              "      <td>14.02</td>\n",
              "      <td>2.59</td>\n",
              "      <td>4.01</td>\n",
              "      <td>72.80</td>\n",
              "      <td>0.89</td>\n",
              "      <td>2.72</td>\n",
              "      <td>4284.348574</td>\n",
              "    </tr>\n",
              "    <tr>\n",
              "      <th>3</th>\n",
              "      <td>4</td>\n",
              "      <td>17.67</td>\n",
              "      <td>6.75</td>\n",
              "      <td>2.63</td>\n",
              "      <td>39.81</td>\n",
              "      <td>1.08</td>\n",
              "      <td>1.88</td>\n",
              "      <td>5098.680869</td>\n",
              "    </tr>\n",
              "    <tr>\n",
              "      <th>4</th>\n",
              "      <td>5</td>\n",
              "      <td>17.52</td>\n",
              "      <td>4.57</td>\n",
              "      <td>3.18</td>\n",
              "      <td>10.94</td>\n",
              "      <td>1.51</td>\n",
              "      <td>1.90</td>\n",
              "      <td>3406.132832</td>\n",
              "    </tr>\n",
              "  </tbody>\n",
              "</table>\n",
              "</div>"
            ],
            "text/plain": [
              "   Well    Por  Perm    AI  Brittle   TOC    VR         Prod\n",
              "0     1  12.08  2.92  2.80    81.40  1.16  2.31  4165.196191\n",
              "1     2  12.38  3.53  3.22    46.17  0.89  1.88  3561.146205\n",
              "2     3  14.02  2.59  4.01    72.80  0.89  2.72  4284.348574\n",
              "3     4  17.67  6.75  2.63    39.81  1.08  1.88  5098.680869\n",
              "4     5  17.52  4.57  3.18    10.94  1.51  1.90  3406.132832"
            ]
          },
          "execution_count": 42,
          "metadata": {},
          "output_type": "execute_result"
        }
      ],
      "source": [
        "df = pd.read_csv(\"datasets/unconv.csv\")\n",
        "df.head()"
      ]
    },
    {
      "cell_type": "markdown",
      "id": "58639b40",
      "metadata": {
        "id": "58639b40"
      },
      "source": [
        "## Практика: линейная регрессия по методу наименьших квадратов"
      ]
    },
    {
      "cell_type": "markdown",
      "id": "a90535b8",
      "metadata": {
        "id": "a90535b8"
      },
      "source": [
        "Для начала построим простейшую модель линейной регрессии, проанализируем результаты её работы и выберем наиболее значимые факторы для прогнозирования.\n",
        "\n",
        "В первой части вам предстоит выполнить задания 5.0–5.6. Максимальное количество баллов, которое можно получить, — 9."
      ]
    },
    {
      "cell_type": "markdown",
      "id": "4061b706",
      "metadata": {
        "id": "4061b706"
      },
      "source": [
        "### Задание 5.0. (не оценивается)\n",
        "\n",
        "Проведите небольшой разведывательный анализ, чтобы поближе познакомиться с исходными данными. Постройте несколько визуализаций, которые помогут вам понять, как устроены исходные признаки, а также смогут продемонстрировать взаимосвязь факторов. \n",
        "\n",
        "Сделайте промежуточные выводы из проведённого разведывательного анализа."
      ]
    },
    {
      "cell_type": "code",
      "execution_count": 43,
      "id": "daf1ccc7",
      "metadata": {
        "id": "daf1ccc7"
      },
      "outputs": [
        {
          "name": "stdout",
          "output_type": "stream",
          "text": [
            "<class 'pandas.core.frame.DataFrame'>\n",
            "RangeIndex: 200 entries, 0 to 199\n",
            "Data columns (total 8 columns):\n",
            " #   Column   Non-Null Count  Dtype  \n",
            "---  ------   --------------  -----  \n",
            " 0   Well     200 non-null    int64  \n",
            " 1   Por      200 non-null    float64\n",
            " 2   Perm     200 non-null    float64\n",
            " 3   AI       200 non-null    float64\n",
            " 4   Brittle  200 non-null    float64\n",
            " 5   TOC      200 non-null    float64\n",
            " 6   VR       200 non-null    float64\n",
            " 7   Prod     200 non-null    float64\n",
            "dtypes: float64(7), int64(1)\n",
            "memory usage: 12.6 KB\n"
          ]
        }
      ],
      "source": [
        "df.info()"
      ]
    },
    {
      "cell_type": "code",
      "execution_count": 44,
      "id": "26ce1f36",
      "metadata": {},
      "outputs": [
        {
          "data": {
            "text/html": [
              "<div>\n",
              "<style scoped>\n",
              "    .dataframe tbody tr th:only-of-type {\n",
              "        vertical-align: middle;\n",
              "    }\n",
              "\n",
              "    .dataframe tbody tr th {\n",
              "        vertical-align: top;\n",
              "    }\n",
              "\n",
              "    .dataframe thead th {\n",
              "        text-align: right;\n",
              "    }\n",
              "</style>\n",
              "<table border=\"1\" class=\"dataframe\">\n",
              "  <thead>\n",
              "    <tr style=\"text-align: right;\">\n",
              "      <th></th>\n",
              "      <th>Well</th>\n",
              "      <th>Por</th>\n",
              "      <th>Perm</th>\n",
              "      <th>AI</th>\n",
              "      <th>Brittle</th>\n",
              "      <th>TOC</th>\n",
              "      <th>VR</th>\n",
              "      <th>Prod</th>\n",
              "    </tr>\n",
              "  </thead>\n",
              "  <tbody>\n",
              "    <tr>\n",
              "      <th>count</th>\n",
              "      <td>200.000000</td>\n",
              "      <td>200.000000</td>\n",
              "      <td>200.000000</td>\n",
              "      <td>200.000000</td>\n",
              "      <td>200.000000</td>\n",
              "      <td>200.000000</td>\n",
              "      <td>200.000000</td>\n",
              "      <td>200.000000</td>\n",
              "    </tr>\n",
              "    <tr>\n",
              "      <th>mean</th>\n",
              "      <td>100.500000</td>\n",
              "      <td>14.991150</td>\n",
              "      <td>4.330750</td>\n",
              "      <td>2.968850</td>\n",
              "      <td>48.161950</td>\n",
              "      <td>0.990450</td>\n",
              "      <td>1.964300</td>\n",
              "      <td>4311.219852</td>\n",
              "    </tr>\n",
              "    <tr>\n",
              "      <th>std</th>\n",
              "      <td>57.879185</td>\n",
              "      <td>2.971176</td>\n",
              "      <td>1.731014</td>\n",
              "      <td>0.566885</td>\n",
              "      <td>14.129455</td>\n",
              "      <td>0.481588</td>\n",
              "      <td>0.300827</td>\n",
              "      <td>992.038414</td>\n",
              "    </tr>\n",
              "    <tr>\n",
              "      <th>min</th>\n",
              "      <td>1.000000</td>\n",
              "      <td>6.550000</td>\n",
              "      <td>1.130000</td>\n",
              "      <td>1.280000</td>\n",
              "      <td>10.940000</td>\n",
              "      <td>-0.190000</td>\n",
              "      <td>0.930000</td>\n",
              "      <td>2107.139414</td>\n",
              "    </tr>\n",
              "    <tr>\n",
              "      <th>25%</th>\n",
              "      <td>50.750000</td>\n",
              "      <td>12.912500</td>\n",
              "      <td>3.122500</td>\n",
              "      <td>2.547500</td>\n",
              "      <td>37.755000</td>\n",
              "      <td>0.617500</td>\n",
              "      <td>1.770000</td>\n",
              "      <td>3618.064513</td>\n",
              "    </tr>\n",
              "    <tr>\n",
              "      <th>50%</th>\n",
              "      <td>100.500000</td>\n",
              "      <td>15.070000</td>\n",
              "      <td>4.035000</td>\n",
              "      <td>2.955000</td>\n",
              "      <td>49.510000</td>\n",
              "      <td>1.030000</td>\n",
              "      <td>1.960000</td>\n",
              "      <td>4284.687348</td>\n",
              "    </tr>\n",
              "    <tr>\n",
              "      <th>75%</th>\n",
              "      <td>150.250000</td>\n",
              "      <td>17.402500</td>\n",
              "      <td>5.287500</td>\n",
              "      <td>3.345000</td>\n",
              "      <td>58.262500</td>\n",
              "      <td>1.350000</td>\n",
              "      <td>2.142500</td>\n",
              "      <td>5086.089761</td>\n",
              "    </tr>\n",
              "    <tr>\n",
              "      <th>max</th>\n",
              "      <td>200.000000</td>\n",
              "      <td>23.550000</td>\n",
              "      <td>9.870000</td>\n",
              "      <td>4.630000</td>\n",
              "      <td>84.330000</td>\n",
              "      <td>2.180000</td>\n",
              "      <td>2.870000</td>\n",
              "      <td>6662.622385</td>\n",
              "    </tr>\n",
              "  </tbody>\n",
              "</table>\n",
              "</div>"
            ],
            "text/plain": [
              "             Well         Por        Perm          AI     Brittle         TOC  \\\n",
              "count  200.000000  200.000000  200.000000  200.000000  200.000000  200.000000   \n",
              "mean   100.500000   14.991150    4.330750    2.968850   48.161950    0.990450   \n",
              "std     57.879185    2.971176    1.731014    0.566885   14.129455    0.481588   \n",
              "min      1.000000    6.550000    1.130000    1.280000   10.940000   -0.190000   \n",
              "25%     50.750000   12.912500    3.122500    2.547500   37.755000    0.617500   \n",
              "50%    100.500000   15.070000    4.035000    2.955000   49.510000    1.030000   \n",
              "75%    150.250000   17.402500    5.287500    3.345000   58.262500    1.350000   \n",
              "max    200.000000   23.550000    9.870000    4.630000   84.330000    2.180000   \n",
              "\n",
              "               VR         Prod  \n",
              "count  200.000000   200.000000  \n",
              "mean     1.964300  4311.219852  \n",
              "std      0.300827   992.038414  \n",
              "min      0.930000  2107.139414  \n",
              "25%      1.770000  3618.064513  \n",
              "50%      1.960000  4284.687348  \n",
              "75%      2.142500  5086.089761  \n",
              "max      2.870000  6662.622385  "
            ]
          },
          "execution_count": 44,
          "metadata": {},
          "output_type": "execute_result"
        }
      ],
      "source": [
        "df.describe()"
      ]
    },
    {
      "cell_type": "markdown",
      "id": "276c8dbf",
      "metadata": {},
      "source": [
        "- Пропусков в данных нету\n",
        "- Данные не стандартизированы, не масштабированы"
      ]
    },
    {
      "cell_type": "markdown",
      "id": "d11cb44f",
      "metadata": {
        "id": "d11cb44f"
      },
      "source": [
        "### Задание 5.1. (2 балла)\n",
        "\n",
        "Постройте корреляционную матрицу факторов, включив в неё целевой признак. \n",
        "\n",
        "Для наглядности визуализируйте полученную матрицу с помощью тепловой карты. \n",
        "\n",
        "**Примечание.** *Для визуализации вы можете использовать любую из знакомых вам библиотек.*\n",
        "\n",
        "На основе построенной корреляционной матрицы ответьте на следующий вопрос:\n",
        "\n",
        "* Какие факторы сильнее всего коррелируют с целевой переменной?\n",
        "\n",
        "Вычислите ранг и определитель полученной матрицы корреляций и приведите развёрнутые ответы на следующие вопросы:\n",
        "* Является ли корреляционная матрица плохо обусловенной (близок ли её опредитель к нулю)?\n",
        "* Что вы можете сказать о наличии коллинераности/мультиколлинеарности в данных? \n",
        "* Применима ли в данном случае модель классической линейной регрессии по методу наименьших квадратов и почему? "
      ]
    },
    {
      "cell_type": "markdown",
      "id": "57OjUl5e2oiL",
      "metadata": {
        "id": "57OjUl5e2oiL"
      },
      "source": [
        "**Критерии оценивания:**\n",
        "- Задание выполнено верно, учтены все условия (**2 балла**): \n",
        "    * приведён код для расчёта корреляционной матрицы;\n",
        "    * приведён код для визуализации корреляционной матрицы в виде тепловой карты;\n",
        "    * рассчитаны ранг и определитель корреляционной матрицы;\n",
        "    * предоставлены обоснованные ответы на все поставленные вопросы. \n",
        "\n",
        "- Задание выполнено верно, но не учтено одно условие (**1 балл**).\n",
        "- Задание выполнено неверно, не учтено несколько условий (**0 баллов**)."
      ]
    },
    {
      "cell_type": "code",
      "execution_count": 45,
      "id": "af00a5a0",
      "metadata": {
        "id": "af00a5a0"
      },
      "outputs": [
        {
          "data": {
            "text/plain": [
              "<Axes: >"
            ]
          },
          "execution_count": 45,
          "metadata": {},
          "output_type": "execute_result"
        },
        {
          "data": {
            "image/png": "[encoded data removed]",
            "text/plain": [
              "<Figure size 640x480 with 2 Axes>"
            ]
          },
          "metadata": {},
          "output_type": "display_data"
        }
      ],
      "source": [
        "corr = df.corr()\n",
        "\n",
        "sns.heatmap(corr, cmap=\"YlGnBu\", annot=True)"
      ]
    },
    {
      "cell_type": "code",
      "execution_count": 46,
      "id": "b911ea92",
      "metadata": {},
      "outputs": [
        {
          "data": {
            "text/plain": [
              "<Axes: >"
            ]
          },
          "execution_count": 46,
          "metadata": {},
          "output_type": "execute_result"
        },
        {
          "data": {
            "image/png": "[encoded data removed]",
            "text/plain": [
              "<Figure size 640x480 with 2 Axes>"
            ]
          },
          "metadata": {},
          "output_type": "display_data"
        }
      ],
      "source": [
        "# Выделим 3 признака имеющих самую высокую корреляцию с целевым признаком Prod\n",
        "\n",
        "top_3_feature_corr = (\n",
        "    corr.abs().round(2).Prod.sort_values(ascending=False).head(4)[1:].to_frame()\n",
        ")\n",
        "\n",
        "sns.heatmap(top_3_feature_corr, cmap=\"YlGnBu\", annot=True)"
      ]
    },
    {
      "cell_type": "code",
      "execution_count": 47,
      "id": "c2fd2c5d",
      "metadata": {},
      "outputs": [
        {
          "name": "stdout",
          "output_type": "stream",
          "text": [
            "Ранк матрицы: 8\n"
          ]
        }
      ],
      "source": [
        "# Ранк матрицы\n",
        "print(f\"Ранк матрицы: {np.linalg.matrix_rank(corr)}\")"
      ]
    },
    {
      "cell_type": "code",
      "execution_count": 48,
      "id": "758b15c9",
      "metadata": {},
      "outputs": [
        {
          "name": "stdout",
          "output_type": "stream",
          "text": [
            "Детерминант матрицы: 0.0007\n"
          ]
        }
      ],
      "source": [
        "# Детерминант матрицы\n",
        "print(f\"Детерминант матрицы: {np.linalg.det(corr):.>.4f}\")"
      ]
    },
    {
      "cell_type": "markdown",
      "id": "9a56013d",
      "metadata": {
        "id": "9a56013d"
      },
      "source": [
        "- Матрица близка к вырожденной, так как значение ее детерминанта достаточно мало. Соответственно данные являются плохо обусловленными. Хорошего решения классическим способом линеной регрессии, мы получить не сможем.\n",
        "\n",
        "- Также мы имеем корелляцию между признаками и присутствует мультиколлинеарность.\n",
        "\n",
        "- Применение метода МНК некоректно. Будем иметь большой bias."
      ]
    },
    {
      "cell_type": "markdown",
      "id": "43fd91c4",
      "metadata": {
        "id": "43fd91c4"
      },
      "source": [
        "### Задание 5.2. (2 балла)\n",
        "\n",
        "Создайте матрицу наблюдений `X` и вектор правильных ответов `y`. В качестве факторов для матрицы наблюдений возьмите все имеющиеся в данных признаки. \n",
        "\n",
        "Постройте модель линейной регрессии по методу наименьших квадратов. Для этого воспользуйтесь матричной формулой МНК и инструментарием библиотеки numpy. \n",
        "\n",
        "Выведите на экран полученные оценки коэффициентов модели, округлённые до целого.\n",
        "\n",
        "Приведите подробные выводы по полученным результатам, ответив на следующие вопросы:\n",
        "* Есть ли в ваших данных признаки, которые, согласно модели, можно назвать неинформативными, то есть они не оказывают влияния на целевую переменную или оказывают шумовое влияние?\n",
        "* Приведите интерпретацию нескольких (двух или трёх) коэффициентов полученной модели линейной регрессии.\n"
      ]
    },
    {
      "cell_type": "markdown",
      "id": "QtNtTUzI4Cpq",
      "metadata": {
        "id": "QtNtTUzI4Cpq"
      },
      "source": [
        "**Критерии оценивания:**\n",
        "- Задание выполнено верно, учтены все условия (**2 балла**): \n",
        "    * приведён код для нахождения параметров модели линейной регрессии с помощью матричной формулы МНК;\n",
        "    * на основе полученных параметров даны верные ответы на поставленные вопросы;\n",
        "    * приведена корректная интерпретация нескольких коэффициентов полученной модели линейной регрессии.\n",
        "\n",
        "- Задание выполнено верно, но не учтено одно из условий (**1 балл**).\n",
        "- Задание выполнено неверно, не учтено несколько условий (**0 баллов**)."
      ]
    },
    {
      "cell_type": "code",
      "execution_count": 49,
      "id": "5724288c",
      "metadata": {
        "id": "5724288c"
      },
      "outputs": [],
      "source": [
        "X = np.column_stack((np.ones(df.shape[0]), df.iloc[:, :7].values))\n",
        "y = df.Prod"
      ]
    },
    {
      "cell_type": "code",
      "execution_count": 50,
      "id": "0a8b1f2e",
      "metadata": {},
      "outputs": [
        {
          "data": {
            "text/html": [
              "<style type=\"text/css\">\n",
              "</style>\n",
              "<table id=\"T_b0b3c\">\n",
              "  <thead>\n",
              "    <tr>\n",
              "      <th class=\"blank level0\" >&nbsp;</th>\n",
              "      <th id=\"T_b0b3c_level0_col0\" class=\"col_heading level0 col0\" >k</th>\n",
              "      <th id=\"T_b0b3c_level0_col1\" class=\"col_heading level0 col1\" >mean</th>\n",
              "      <th id=\"T_b0b3c_level0_col2\" class=\"col_heading level0 col2\" >delta</th>\n",
              "      <th id=\"T_b0b3c_level0_col3\" class=\"col_heading level0 col3\" >%</th>\n",
              "    </tr>\n",
              "  </thead>\n",
              "  <tbody>\n",
              "    <tr>\n",
              "      <th id=\"T_b0b3c_level0_row0\" class=\"row_heading level0 row0\" >Por</th>\n",
              "      <td id=\"T_b0b3c_row0_col0\" class=\"data row0 col0\" >230</td>\n",
              "      <td id=\"T_b0b3c_row0_col1\" class=\"data row0 col1\" >14.99</td>\n",
              "      <td id=\"T_b0b3c_row0_col2\" class=\"data row0 col2\" >3450.65</td>\n",
              "      <td id=\"T_b0b3c_row0_col3\" class=\"data row0 col3\" >100.00</td>\n",
              "    </tr>\n",
              "    <tr>\n",
              "      <th id=\"T_b0b3c_level0_row1\" class=\"row_heading level0 row1\" >VR</th>\n",
              "      <td id=\"T_b0b3c_row1_col0\" class=\"data row1 col0\" >785</td>\n",
              "      <td id=\"T_b0b3c_row1_col1\" class=\"data row1 col1\" >1.96</td>\n",
              "      <td id=\"T_b0b3c_row1_col2\" class=\"data row1 col2\" >1542.49</td>\n",
              "      <td id=\"T_b0b3c_row1_col3\" class=\"data row1 col3\" >44.70</td>\n",
              "    </tr>\n",
              "    <tr>\n",
              "      <th id=\"T_b0b3c_level0_row2\" class=\"row_heading level0 row2\" >Brittle</th>\n",
              "      <td id=\"T_b0b3c_row2_col0\" class=\"data row2 col0\" >25</td>\n",
              "      <td id=\"T_b0b3c_row2_col1\" class=\"data row2 col1\" >48.16</td>\n",
              "      <td id=\"T_b0b3c_row2_col2\" class=\"data row2 col2\" >1203.78</td>\n",
              "      <td id=\"T_b0b3c_row2_col3\" class=\"data row2 col3\" >34.89</td>\n",
              "    </tr>\n",
              "    <tr>\n",
              "      <th id=\"T_b0b3c_level0_row3\" class=\"row_heading level0 row3\" >AI</th>\n",
              "      <td id=\"T_b0b3c_row3_col0\" class=\"data row3 col0\" >-365</td>\n",
              "      <td id=\"T_b0b3c_row3_col1\" class=\"data row3 col1\" >2.97</td>\n",
              "      <td id=\"T_b0b3c_row3_col2\" class=\"data row3 col2\" >-1084.23</td>\n",
              "      <td id=\"T_b0b3c_row3_col3\" class=\"data row3 col3\" >-31.42</td>\n",
              "    </tr>\n",
              "    <tr>\n",
              "      <th id=\"T_b0b3c_level0_row4\" class=\"row_heading level0 row4\" >Perm</th>\n",
              "      <td id=\"T_b0b3c_row4_col0\" class=\"data row4 col0\" >116</td>\n",
              "      <td id=\"T_b0b3c_row4_col1\" class=\"data row4 col1\" >4.33</td>\n",
              "      <td id=\"T_b0b3c_row4_col2\" class=\"data row4 col2\" >503.40</td>\n",
              "      <td id=\"T_b0b3c_row4_col3\" class=\"data row4 col3\" >14.59</td>\n",
              "    </tr>\n",
              "    <tr>\n",
              "      <th id=\"T_b0b3c_level0_row5\" class=\"row_heading level0 row5\" >TOC</th>\n",
              "      <td id=\"T_b0b3c_row5_col0\" class=\"data row5 col0\" >-78</td>\n",
              "      <td id=\"T_b0b3c_row5_col1\" class=\"data row5 col1\" >0.99</td>\n",
              "      <td id=\"T_b0b3c_row5_col2\" class=\"data row5 col2\" >-77.65</td>\n",
              "      <td id=\"T_b0b3c_row5_col3\" class=\"data row5 col3\" >-2.25</td>\n",
              "    </tr>\n",
              "    <tr>\n",
              "      <th id=\"T_b0b3c_level0_row6\" class=\"row_heading level0 row6\" >Well</th>\n",
              "      <td id=\"T_b0b3c_row6_col0\" class=\"data row6 col0\" >0</td>\n",
              "      <td id=\"T_b0b3c_row6_col1\" class=\"data row6 col1\" >100.50</td>\n",
              "      <td id=\"T_b0b3c_row6_col2\" class=\"data row6 col2\" >5.10</td>\n",
              "      <td id=\"T_b0b3c_row6_col3\" class=\"data row6 col3\" >0.15</td>\n",
              "    </tr>\n",
              "    <tr>\n",
              "      <th id=\"T_b0b3c_level0_row7\" class=\"row_heading level0 row7\" >Intercept</th>\n",
              "      <td id=\"T_b0b3c_row7_col0\" class=\"data row7 col0\" >-1232</td>\n",
              "      <td id=\"T_b0b3c_row7_col1\" class=\"data row7 col1\" >0.00</td>\n",
              "      <td id=\"T_b0b3c_row7_col2\" class=\"data row7 col2\" >-0.00</td>\n",
              "      <td id=\"T_b0b3c_row7_col3\" class=\"data row7 col3\" >-0.00</td>\n",
              "    </tr>\n",
              "  </tbody>\n",
              "</table>\n"
            ],
            "text/plain": [
              "<pandas.io.formats.style.Styler at 0x7fffa45cd4e0>"
            ]
          },
          "execution_count": 50,
          "metadata": {},
          "output_type": "execute_result"
        }
      ],
      "source": [
        "w_hat = np.linalg.inv(X.T @ X) @ X.T @ y\n",
        "\n",
        "w_hat_df = pd.DataFrame(\n",
        "    data=w_hat,\n",
        "    index=np.hstack(([\"Intercept\"], np.array(df.columns[:-1]))),\n",
        "    columns=[\"k\"],\n",
        ")\n",
        "mean_data = pd.concat(\n",
        "    [pd.Series(data=[0], index=[\"Intercept\"]), df.describe().loc[\"mean\", :][:-1]]\n",
        ")\n",
        "\n",
        "w_hat_df = pd.concat([w_hat_df, mean_data], axis=1).rename(columns={0: \"mean\"})\n",
        "w_hat_df[\"delta\"] = w_hat_df.iloc[:, 0] * w_hat_df.iloc[:, 1]\n",
        "\n",
        "w_hat_df_sorted = w_hat_df.sort_values(by=[\"delta\"], ascending=False, key=abs)\n",
        "w_hat_df_sorted[\"%\"] = (\n",
        "    w_hat_df_sorted.loc[:, \"delta\"] / w_hat_df_sorted.loc[:, \"delta\"].max() * 100\n",
        ")\n",
        "\n",
        "w_hat_df_sorted.style.format(\n",
        "    {\n",
        "        \"k\": \"{:.0f}\",\n",
        "        \"mean\": \"{:.2f}\",\n",
        "        \"delta\": \"{:.2f}\",\n",
        "        \"%\": \"{:.2f}\",\n",
        "    }\n",
        ")"
      ]
    },
    {
      "cell_type": "markdown",
      "id": "31b61fb6",
      "metadata": {},
      "source": [
        "- delta показывает, насколько каждый из признаков влияет на целевой признак.\n",
        "- Well, TOC, Perm практически не влияет на результат;\n",
        "- Por больше всего влияет на целевой признак;\n",
        "- AI больше всего влияет в сторону уменьшения;"
      ]
    },
    {
      "cell_type": "markdown",
      "id": "4a05a4ac",
      "metadata": {
        "id": "4a05a4ac"
      },
      "source": [
        "### Задание 5.3. (1 балл)\n",
        "\n",
        "Теперь потренируемся строить предсказание для наблюдений целевой переменной. \n",
        "\n",
        "**а)** Постройте прогноз выработки газа для скважины со следующими параметрами:\n",
        "\n",
        "```python\n",
        "{\n",
        "    'Well': 106.0,\n",
        "    'Por': 15.32,\n",
        "    'Perm': 3.71,\n",
        "    'AI': 3.29,\n",
        "    'Brittle': 55.99,\n",
        "    'TOC': 1.35,\n",
        "    'VR': 2.42\n",
        " }\n",
        "```\n",
        "\n",
        "Рассчитайте абсолютную ошибку построенного вами прогноза для предложенной скважины (в миллионах кубических футов в день), если известно, что на этой скважине производится `4748.315024` миллионов кубических футов газа в день. \n",
        "\n",
        "**б)** Постройте прогноз выработки газа для всех скважин из обучающего набора данных. Выберите метрику, по которой вы будете оценивать качество регрессионных моделей и сравнивать их между собой (можно использовать несколько метрик, но не более двух).\n",
        "\n",
        "Рассчитайте значение выбранной метрики для вашей модели. Приведите интерпретацию полученного результата. "
      ]
    },
    {
      "cell_type": "markdown",
      "id": "qUDcep5Q5GWU",
      "metadata": {
        "id": "qUDcep5Q5GWU"
      },
      "source": [
        "**Критерии оценивания:**\n",
        "- Задание выполнено верно, учтены все условия (**1 балл**): \n",
        "    * приведён код для построения прогноза выработки газа на указанной скважине и рассчитана абсолютная ошибка прогноза для этой скважины;\n",
        "    * выбрана корректная для поставленной задачи метрика (или метрики) оценки качества модели и приведён код для расчёта этой метрики на всём обучающем наборе данных;\n",
        "    * приведена корректная интерпретация полученного результата.\n",
        "\n",
        "- Задание выполнено верно, но не учтено одно из условий, или задание выполнено неверно (**0 баллов**)."
      ]
    },
    {
      "cell_type": "code",
      "execution_count": 51,
      "id": "e4291db0",
      "metadata": {
        "id": "e4291db0"
      },
      "outputs": [
        {
          "name": "stdout",
          "output_type": "stream",
          "text": [
            "Предсказание при Well = 106: 4723\n",
            "MAE при Well=106: 25\n",
            "MAPE (общая): 3.63%\n"
          ]
        }
      ],
      "source": [
        "selected = np.hstack(([1], df.iloc[105].values[:-1]))\n",
        "print(f\"Предсказание при Well = 106: {(selected@w_hat):.0f}\")\n",
        "\n",
        "print(\n",
        "    f\"MAE при Well=106: {mean_absolute_error([df.iloc[105,-1]],[selected@w_hat]):.0f}\"\n",
        ")\n",
        "\n",
        "predict_df = X @ w_hat\n",
        "\n",
        "print(f\"MAPE (общая): {mean_absolute_percentage_error(y,predict_df)*100:.2f}%\")"
      ]
    },
    {
      "cell_type": "markdown",
      "id": "05b6f036",
      "metadata": {},
      "source": [
        "- Обшика MAPE равна 3.6%\n",
        "- Что, вероятно, является неплохим результатом. Но надо помнить, что еще не делали разбиение на train/test; Не ясно, как модель покажет себя на новых данных."
      ]
    },
    {
      "cell_type": "markdown",
      "id": "0c25c3aa",
      "metadata": {
        "id": "0c25c3aa"
      },
      "source": [
        "### Задание 5.4. (1 балл)\n",
        "\n",
        "Настало время анализа построенной модели. Посмотрите на коэффициенты и сравните их знаки со значениями выборочных корреляций между целевым признаком и факторами, которые вы нашли ранее.\n",
        "\n",
        "Дайте развёрнутые ответы на следующие вопросы:\n",
        "\n",
        "* Есть ли в вашей модели фактор, при котором коэффициент в модели линейной регрессии противоречит соответствующему коэффициенту корреляции? Например, корреляция говорит, что зависимость между фактором и целевой переменной прямая, а модель говорит обратное. Если таких факторов несколько, укажите их все.\n",
        "* Как вы считаете, с чем связано полученное противоречие результатов?"
      ]
    },
    {
      "cell_type": "markdown",
      "id": "ngJ3UdYb6Ll6",
      "metadata": {
        "id": "ngJ3UdYb6Ll6"
      },
      "source": [
        "**Критерии оценивания:**\n",
        "\n",
        "- Задание выполнено верно, даны корректные развёрнутые ответы на все поставленные в задании вопросы (**1 балл**). \n",
        "\n",
        "- Задание выполнено неверно, даны некорректные ответы на один или несколько поставленных в задании вопросов (**0 баллов**)."
      ]
    },
    {
      "cell_type": "code",
      "execution_count": 52,
      "id": "44b4ee11",
      "metadata": {},
      "outputs": [
        {
          "data": {
            "text/html": [
              "<style type=\"text/css\">\n",
              "</style>\n",
              "<table id=\"T_d4439\">\n",
              "  <thead>\n",
              "    <tr>\n",
              "      <th class=\"blank level0\" >&nbsp;</th>\n",
              "      <th id=\"T_d4439_level0_col0\" class=\"col_heading level0 col0\" >Кор. коэф</th>\n",
              "      <th id=\"T_d4439_level0_col1\" class=\"col_heading level0 col1\" >k</th>\n",
              "    </tr>\n",
              "  </thead>\n",
              "  <tbody>\n",
              "    <tr>\n",
              "      <th id=\"T_d4439_level0_row0\" class=\"row_heading level0 row0\" >Well</th>\n",
              "      <td id=\"T_d4439_row0_col0\" class=\"data row0 col0\" >0.03</td>\n",
              "      <td id=\"T_d4439_row0_col1\" class=\"data row0 col1\" >0.050700</td>\n",
              "    </tr>\n",
              "    <tr>\n",
              "      <th id=\"T_d4439_level0_row1\" class=\"row_heading level0 row1\" >Por</th>\n",
              "      <td id=\"T_d4439_row1_col0\" class=\"data row1 col0\" >0.86</td>\n",
              "      <td id=\"T_d4439_row1_col1\" class=\"data row1 col1\" >230.179140</td>\n",
              "    </tr>\n",
              "    <tr>\n",
              "      <th id=\"T_d4439_level0_row2\" class=\"row_heading level0 row2\" >Perm</th>\n",
              "      <td id=\"T_d4439_row2_col0\" class=\"data row2 col0\" >0.73</td>\n",
              "      <td id=\"T_d4439_row2_col1\" class=\"data row2 col1\" >116.239006</td>\n",
              "    </tr>\n",
              "    <tr>\n",
              "      <th id=\"T_d4439_level0_row3\" class=\"row_heading level0 row3\" >AI</th>\n",
              "      <td id=\"T_d4439_row3_col0\" class=\"data row3 col0\" >-0.39</td>\n",
              "      <td id=\"T_d4439_row3_col1\" class=\"data row3 col1\" >-365.202301</td>\n",
              "    </tr>\n",
              "    <tr>\n",
              "      <th id=\"T_d4439_level0_row4\" class=\"row_heading level0 row4\" >Brittle</th>\n",
              "      <td id=\"T_d4439_row4_col0\" class=\"data row4 col0\" >0.24</td>\n",
              "      <td id=\"T_d4439_row4_col1\" class=\"data row4 col1\" >24.994370</td>\n",
              "    </tr>\n",
              "    <tr>\n",
              "      <th id=\"T_d4439_level0_row5\" class=\"row_heading level0 row5\" >TOC</th>\n",
              "      <td id=\"T_d4439_row5_col0\" class=\"data row5 col0\" >0.65</td>\n",
              "      <td id=\"T_d4439_row5_col1\" class=\"data row5 col1\" >-78.400929</td>\n",
              "    </tr>\n",
              "    <tr>\n",
              "      <th id=\"T_d4439_level0_row6\" class=\"row_heading level0 row6\" >VR</th>\n",
              "      <td id=\"T_d4439_row6_col0\" class=\"data row6 col0\" >0.32</td>\n",
              "      <td id=\"T_d4439_row6_col1\" class=\"data row6 col1\" >785.259815</td>\n",
              "    </tr>\n",
              "    <tr>\n",
              "      <th id=\"T_d4439_level0_row7\" class=\"row_heading level0 row7\" >Intercept</th>\n",
              "      <td id=\"T_d4439_row7_col0\" class=\"data row7 col0\" >nan</td>\n",
              "      <td id=\"T_d4439_row7_col1\" class=\"data row7 col1\" >-1232.308030</td>\n",
              "    </tr>\n",
              "  </tbody>\n",
              "</table>\n"
            ],
            "text/plain": [
              "<pandas.io.formats.style.Styler at 0x7fffa74cfeb0>"
            ]
          },
          "execution_count": 52,
          "metadata": {},
          "output_type": "execute_result"
        }
      ],
      "source": [
        "pd.concat([corr.round(2).Prod[:-1], w_hat_df.iloc[:, 0]], axis=1).rename(\n",
        "    columns={\"Prod\": \"Кор. коэф\"}\n",
        ").style.format({\"Кор. коэф\": \"{:.2f}\", \"Коэффициент\": \"{:.2f}\"})"
      ]
    },
    {
      "cell_type": "markdown",
      "id": "fe72addc",
      "metadata": {},
      "source": [
        "- Векторы Toc и Prod сонаправлены, исходя из положительной корреляции между ними; Однако, коэффиценты идут со знаком -;"
      ]
    },
    {
      "cell_type": "code",
      "execution_count": 53,
      "id": "9dc8e164",
      "metadata": {},
      "outputs": [
        {
          "data": {
            "image/png": "[encoded data removed]",
            "text/plain": [
              "<Figure size 640x480 with 1 Axes>"
            ]
          },
          "metadata": {},
          "output_type": "display_data"
        }
      ],
      "source": [
        "ax = sns.scatterplot(x=\"TOC\", y=\"Prod\", data=df)\n",
        "\n",
        "plt.suptitle(\"Распределение для признаков Toc/Prod\", size=18, weight=600)\n",
        "ax.set_xlabel(\n",
        "    \"признак TOC\",\n",
        "    fontsize=10,\n",
        "    labelpad=15,\n",
        "    fontdict={\"color\": \"#323232\", \"fontweight\": 600},\n",
        ")\n",
        "ax.set_ylabel(\n",
        "    \"признак Prod(целевая переменная)\",\n",
        "    fontsize=10,\n",
        "    labelpad=15,\n",
        "    fontdict={\"color\": \"#323232\", \"fontweight\": 600},\n",
        ")\n",
        "ax.tick_params(axis=\"both\", which=\"major\", labelsize=7)"
      ]
    },
    {
      "cell_type": "markdown",
      "id": "7729d6e8",
      "metadata": {},
      "source": [
        "- Видно, что зависимость между признаками прямая и линейная, т.е с ростом одного признака, растет и другой.\n",
        "- Отрицательный коэффицент обусловлен \"плохой\" моделью -- вызванной сильной мультиколлинеарности в данных, которая портит коэффициенты."
      ]
    },
    {
      "cell_type": "markdown",
      "id": "9cea9195",
      "metadata": {
        "id": "9cea9195"
      },
      "source": [
        "### Задание 5.5. (2 балла)\n",
        "\n",
        "* Исключите из данных сильно коррелированные между собой факторы. Под сильной корреляцией в данной задаче будем понимать значения выше `0.7`.\n",
        "\n",
        "Выбирая, какой из коррелированных факторов оставить, руководствуйтесь коэффициентом корреляции с целевой переменной: оставляйте тот фактор, который больше всего коррелирует с целевой переменной (объёмом добычи газа).\n",
        "\n",
        "* Также исключите из данных факторы, для которых корреляция с целевой переменной меньше `0.05`.\n",
        "\n",
        "Постройте модель линейной регрессии на обновлённых после удаления факторов данных по методу наименьших квадратов. Для этого используйте матричную формулу и библиотеку numpy. Выведите значение полученных коэффициентов, округлённых до целого.\n",
        "\n",
        "Сделайте прогноз для всего обучающего набора данных и рассчитайте выбранную вами ранее метрику (или метрики). \n",
        "\n",
        "Дайте подробные ответы на следующие вопросы:\n",
        "\n",
        "* Приведите интерпретацию нескольких полученных коэффициентов (двух или трёх). Сравните их значения с полученными ранее.\n",
        "* Приведите интерпретацию полученных значений метрик. Сравните их значения с полученными ранее. \n",
        "* Удалось ли вам побороть противоречие коэффициентов линейной регрессии и коэффициентов корреляции?"
      ]
    },
    {
      "cell_type": "markdown",
      "id": "vlUYVjJP6oXN",
      "metadata": {
        "id": "vlUYVjJP6oXN"
      },
      "source": [
        "**Критерии оценивания:**\n",
        "- Задание выполнено верно, учтены все условия (**2 балла**): \n",
        "    * отобраны верные факторы;\n",
        "    * на основе отобранных факторов построена модель линейной регрессии с помощью матричной формулы МНК и найдены параметры модели, соответствующие каждому из факторов;\n",
        "    * построен прогноз для всего обучающего набора данных и рассчитано значение метрики (метрика должна быть выбрана корректно);\n",
        "    * даны ответы на все поставленные в задании вопросы.\n",
        "\n",
        "- Задание выполнено верно, но не учтено одно из условий (**1 балл**).\n",
        "- Задание выполнено верно, не учтено несколько из условий (**0 баллов**)."
      ]
    },
    {
      "cell_type": "code",
      "execution_count": 54,
      "id": "06c0d10b",
      "metadata": {},
      "outputs": [
        {
          "data": {
            "text/plain": [
              "array([[ True,  True,  True,  True,  True,  True,  True,  True],\n",
              "       [False,  True,  True,  True,  True,  True,  True,  True],\n",
              "       [False, False,  True,  True,  True,  True,  True,  True],\n",
              "       [False, False, False,  True,  True,  True,  True,  True],\n",
              "       [False, False, False, False,  True,  True,  True,  True],\n",
              "       [False, False, False, False, False,  True,  True,  True],\n",
              "       [False, False, False, False, False, False,  True,  True],\n",
              "       [False, False, False, False, False, False, False,  True]])"
            ]
          },
          "execution_count": 54,
          "metadata": {},
          "output_type": "execute_result"
        }
      ],
      "source": [
        "mask = np.triu(np.ones_like(corr, dtype=bool))\n",
        "mask"
      ]
    },
    {
      "cell_type": "code",
      "execution_count": 55,
      "id": "db610401",
      "metadata": {},
      "outputs": [
        {
          "data": {
            "text/html": [
              "<div>\n",
              "<style scoped>\n",
              "    .dataframe tbody tr th:only-of-type {\n",
              "        vertical-align: middle;\n",
              "    }\n",
              "\n",
              "    .dataframe tbody tr th {\n",
              "        vertical-align: top;\n",
              "    }\n",
              "\n",
              "    .dataframe thead th {\n",
              "        text-align: right;\n",
              "    }\n",
              "</style>\n",
              "<table border=\"1\" class=\"dataframe\">\n",
              "  <thead>\n",
              "    <tr style=\"text-align: right;\">\n",
              "      <th></th>\n",
              "      <th>level_0</th>\n",
              "      <th>level_1</th>\n",
              "      <th>corr</th>\n",
              "    </tr>\n",
              "  </thead>\n",
              "  <tbody>\n",
              "    <tr>\n",
              "      <th>63</th>\n",
              "      <td>Prod</td>\n",
              "      <td>Prod</td>\n",
              "      <td>1.000000</td>\n",
              "    </tr>\n",
              "    <tr>\n",
              "      <th>45</th>\n",
              "      <td>TOC</td>\n",
              "      <td>TOC</td>\n",
              "      <td>1.000000</td>\n",
              "    </tr>\n",
              "    <tr>\n",
              "      <th>36</th>\n",
              "      <td>Brittle</td>\n",
              "      <td>Brittle</td>\n",
              "      <td>1.000000</td>\n",
              "    </tr>\n",
              "    <tr>\n",
              "      <th>27</th>\n",
              "      <td>AI</td>\n",
              "      <td>AI</td>\n",
              "      <td>1.000000</td>\n",
              "    </tr>\n",
              "    <tr>\n",
              "      <th>9</th>\n",
              "      <td>Por</td>\n",
              "      <td>Por</td>\n",
              "      <td>1.000000</td>\n",
              "    </tr>\n",
              "    <tr>\n",
              "      <th>...</th>\n",
              "      <td>...</td>\n",
              "      <td>...</td>\n",
              "      <td>...</td>\n",
              "    </tr>\n",
              "    <tr>\n",
              "      <th>7</th>\n",
              "      <td>Well</td>\n",
              "      <td>Prod</td>\n",
              "      <td>0.026817</td>\n",
              "    </tr>\n",
              "    <tr>\n",
              "      <th>40</th>\n",
              "      <td>TOC</td>\n",
              "      <td>Well</td>\n",
              "      <td>0.022624</td>\n",
              "    </tr>\n",
              "    <tr>\n",
              "      <th>5</th>\n",
              "      <td>Well</td>\n",
              "      <td>TOC</td>\n",
              "      <td>0.022624</td>\n",
              "    </tr>\n",
              "    <tr>\n",
              "      <th>48</th>\n",
              "      <td>VR</td>\n",
              "      <td>Well</td>\n",
              "      <td>-0.007279</td>\n",
              "    </tr>\n",
              "    <tr>\n",
              "      <th>6</th>\n",
              "      <td>Well</td>\n",
              "      <td>VR</td>\n",
              "      <td>-0.007279</td>\n",
              "    </tr>\n",
              "  </tbody>\n",
              "</table>\n",
              "<p>63 rows × 3 columns</p>\n",
              "</div>"
            ],
            "text/plain": [
              "    level_0  level_1      corr\n",
              "63     Prod     Prod  1.000000\n",
              "45      TOC      TOC  1.000000\n",
              "36  Brittle  Brittle  1.000000\n",
              "27       AI       AI  1.000000\n",
              "9       Por      Por  1.000000\n",
              "..      ...      ...       ...\n",
              "7      Well     Prod  0.026817\n",
              "40      TOC     Well  0.022624\n",
              "5      Well      TOC  0.022624\n",
              "48       VR     Well -0.007279\n",
              "6      Well       VR -0.007279\n",
              "\n",
              "[63 rows x 3 columns]"
            ]
          },
          "execution_count": 55,
          "metadata": {},
          "output_type": "execute_result"
        }
      ],
      "source": [
        "data_corr_masked = (\n",
        "    corr[mask]\n",
        "    .drop_duplicates()\n",
        "    .unstack()\n",
        "    .reset_index()[1:]\n",
        "    .sort_values(by=0, ascending=False, key=abs)\n",
        "    .rename(columns={0: \"corr\"})\n",
        ")\n",
        "data_corr_masked"
      ]
    },
    {
      "cell_type": "code",
      "execution_count": 56,
      "id": "be368714",
      "metadata": {},
      "outputs": [
        {
          "data": {
            "text/html": [
              "<div>\n",
              "<style scoped>\n",
              "    .dataframe tbody tr th:only-of-type {\n",
              "        vertical-align: middle;\n",
              "    }\n",
              "\n",
              "    .dataframe tbody tr th {\n",
              "        vertical-align: top;\n",
              "    }\n",
              "\n",
              "    .dataframe thead th {\n",
              "        text-align: right;\n",
              "    }\n",
              "</style>\n",
              "<table border=\"1\" class=\"dataframe\">\n",
              "  <thead>\n",
              "    <tr style=\"text-align: right;\">\n",
              "      <th></th>\n",
              "      <th>level_0</th>\n",
              "      <th>level_1</th>\n",
              "      <th>corr</th>\n",
              "    </tr>\n",
              "  </thead>\n",
              "  <tbody>\n",
              "    <tr>\n",
              "      <th>57</th>\n",
              "      <td>Prod</td>\n",
              "      <td>Por</td>\n",
              "      <td>0.861910</td>\n",
              "    </tr>\n",
              "    <tr>\n",
              "      <th>17</th>\n",
              "      <td>Perm</td>\n",
              "      <td>Por</td>\n",
              "      <td>0.760546</td>\n",
              "    </tr>\n",
              "    <tr>\n",
              "      <th>10</th>\n",
              "      <td>Por</td>\n",
              "      <td>Perm</td>\n",
              "      <td>0.760546</td>\n",
              "    </tr>\n",
              "    <tr>\n",
              "      <th>58</th>\n",
              "      <td>Prod</td>\n",
              "      <td>Perm</td>\n",
              "      <td>0.727426</td>\n",
              "    </tr>\n",
              "    <tr>\n",
              "      <th>41</th>\n",
              "      <td>TOC</td>\n",
              "      <td>Por</td>\n",
              "      <td>0.711831</td>\n",
              "    </tr>\n",
              "    <tr>\n",
              "      <th>13</th>\n",
              "      <td>Por</td>\n",
              "      <td>TOC</td>\n",
              "      <td>0.711831</td>\n",
              "    </tr>\n",
              "  </tbody>\n",
              "</table>\n",
              "</div>"
            ],
            "text/plain": [
              "   level_0 level_1      corr\n",
              "57    Prod     Por  0.861910\n",
              "17    Perm     Por  0.760546\n",
              "10     Por    Perm  0.760546\n",
              "58    Prod    Perm  0.727426\n",
              "41     TOC     Por  0.711831\n",
              "13     Por     TOC  0.711831"
            ]
          },
          "execution_count": 56,
          "metadata": {},
          "output_type": "execute_result"
        }
      ],
      "source": [
        "data_corr_masked_final = (\n",
        "    data_corr_masked[abs(data_corr_masked[\"corr\"]) > 0.7]\n",
        "    .query(\"level_1 != 'Prod'\")\n",
        "    .query(\"level_1 != level_0\")\n",
        ")\n",
        "data_corr_masked_final"
      ]
    },
    {
      "cell_type": "code",
      "execution_count": 57,
      "id": "5f524b30",
      "metadata": {},
      "outputs": [],
      "source": [
        "corr_features = set(data_corr_masked_final.iloc[:, :2].stack().values)\n",
        "corr_features.discard(\"Prod\")\n",
        "corr_features = list(corr_features)"
      ]
    },
    {
      "cell_type": "code",
      "execution_count": 58,
      "id": "5d5ZJ0lX_UHe",
      "metadata": {
        "id": "5d5ZJ0lX_UHe"
      },
      "outputs": [
        {
          "data": {
            "text/html": [
              "<div>\n",
              "<style scoped>\n",
              "    .dataframe tbody tr th:only-of-type {\n",
              "        vertical-align: middle;\n",
              "    }\n",
              "\n",
              "    .dataframe tbody tr th {\n",
              "        vertical-align: top;\n",
              "    }\n",
              "\n",
              "    .dataframe thead th {\n",
              "        text-align: right;\n",
              "    }\n",
              "</style>\n",
              "<table border=\"1\" class=\"dataframe\">\n",
              "  <thead>\n",
              "    <tr style=\"text-align: right;\">\n",
              "      <th></th>\n",
              "      <th>Коэф Кореляции с целевым признаком</th>\n",
              "    </tr>\n",
              "  </thead>\n",
              "  <tbody>\n",
              "    <tr>\n",
              "      <th>Por</th>\n",
              "      <td>0.86</td>\n",
              "    </tr>\n",
              "    <tr>\n",
              "      <th>Perm</th>\n",
              "      <td>0.73</td>\n",
              "    </tr>\n",
              "    <tr>\n",
              "      <th>TOC</th>\n",
              "      <td>0.65</td>\n",
              "    </tr>\n",
              "  </tbody>\n",
              "</table>\n",
              "</div>"
            ],
            "text/plain": [
              "      Коэф Кореляции с целевым признаком\n",
              "Por                                 0.86\n",
              "Perm                                0.73\n",
              "TOC                                 0.65"
            ]
          },
          "execution_count": 58,
          "metadata": {},
          "output_type": "execute_result"
        }
      ],
      "source": [
        "pd.DataFrame(\n",
        "    data=[\n",
        "        corr.loc[\"Prod\", corr_features[idx]].round(2)\n",
        "        for idx, feature in enumerate(corr_features)\n",
        "    ],\n",
        "    columns=[\"Коэф Кореляции с целевым признаком\"],\n",
        "    index=corr_features,\n",
        ").sort_values(by=\"Коэф Кореляции с целевым признаком\", ascending=False)"
      ]
    },
    {
      "cell_type": "markdown",
      "id": "KxbYvMDo_WLe",
      "metadata": {
        "id": "KxbYvMDo_WLe"
      },
      "source": [
        "- Удалим признаки, где корреляция между собой выше 0.7 и ниже 0.05 \n",
        "- Удаляем признаки Perm, Toc и Well"
      ]
    },
    {
      "cell_type": "code",
      "execution_count": 59,
      "id": "0fcfe67a",
      "metadata": {},
      "outputs": [],
      "source": [
        "X_new = np.column_stack(\n",
        "    (\n",
        "        np.ones(df.shape[0]),\n",
        "        pd.concat([df.iloc[:, 1:2], df.iloc[:, 3:5], df.iloc[:, 6]], axis=1).values,\n",
        "    )\n",
        ")\n",
        "y = df.Prod"
      ]
    },
    {
      "cell_type": "code",
      "execution_count": 60,
      "id": "2d2dd967",
      "metadata": {},
      "outputs": [
        {
          "data": {
            "text/html": [
              "<div>\n",
              "<style scoped>\n",
              "    .dataframe tbody tr th:only-of-type {\n",
              "        vertical-align: middle;\n",
              "    }\n",
              "\n",
              "    .dataframe tbody tr th {\n",
              "        vertical-align: top;\n",
              "    }\n",
              "\n",
              "    .dataframe thead th {\n",
              "        text-align: right;\n",
              "    }\n",
              "</style>\n",
              "<table border=\"1\" class=\"dataframe\">\n",
              "  <thead>\n",
              "    <tr style=\"text-align: right;\">\n",
              "      <th></th>\n",
              "      <th>Коэффициент</th>\n",
              "    </tr>\n",
              "  </thead>\n",
              "  <tbody>\n",
              "    <tr>\n",
              "      <th>Intercept</th>\n",
              "      <td>-1835.0</td>\n",
              "    </tr>\n",
              "    <tr>\n",
              "      <th>Por</th>\n",
              "      <td>293.0</td>\n",
              "    </tr>\n",
              "    <tr>\n",
              "      <th>AI</th>\n",
              "      <td>-200.0</td>\n",
              "    </tr>\n",
              "    <tr>\n",
              "      <th>Brittle</th>\n",
              "      <td>28.0</td>\n",
              "    </tr>\n",
              "    <tr>\n",
              "      <th>VR</th>\n",
              "      <td>517.0</td>\n",
              "    </tr>\n",
              "  </tbody>\n",
              "</table>\n",
              "</div>"
            ],
            "text/plain": [
              "           Коэффициент\n",
              "Intercept      -1835.0\n",
              "Por              293.0\n",
              "AI              -200.0\n",
              "Brittle           28.0\n",
              "VR               517.0"
            ]
          },
          "execution_count": 60,
          "metadata": {},
          "output_type": "execute_result"
        }
      ],
      "source": [
        "# вычислим OLS-оценку для коэффициентов\n",
        "w_hat_new = np.linalg.inv(X_new.T @ X_new) @ X_new.T @ y\n",
        "\n",
        "w_hat_df_new = pd.DataFrame(\n",
        "    data=w_hat_new,\n",
        "    index=np.hstack(\n",
        "        (\n",
        "            [\"Intercept\"],\n",
        "            np.hstack([df.columns[1], df.columns[3:5], df.columns[6]]),\n",
        "        )\n",
        "    ),\n",
        "    columns=[\"Коэффициент\"],\n",
        ")\n",
        "w_hat_df_new.round()"
      ]
    },
    {
      "cell_type": "code",
      "execution_count": 61,
      "id": "00434079",
      "metadata": {},
      "outputs": [
        {
          "name": "stdout",
          "output_type": "stream",
          "text": [
            "MAPE: 4.04\n"
          ]
        },
        {
          "name": "stderr",
          "output_type": "stream",
          "text": [
            "/tmp/ipykernel_698/731541443.py:5: FutureWarning: Series.__getitem__ treating keys as positions is deprecated. In a future version, integer keys will always be treated as labels (consistent with DataFrame behavior). To access a value by position, use `ser.iloc[pos]`\n",
            "  pd.concat([corr.round(2).Prod[[1, 3, 4, 6]], w_hat_df_new[1:]], axis=1).rename(\n"
          ]
        },
        {
          "data": {
            "text/html": [
              "<div>\n",
              "<style scoped>\n",
              "    .dataframe tbody tr th:only-of-type {\n",
              "        vertical-align: middle;\n",
              "    }\n",
              "\n",
              "    .dataframe tbody tr th {\n",
              "        vertical-align: top;\n",
              "    }\n",
              "\n",
              "    .dataframe thead th {\n",
              "        text-align: right;\n",
              "    }\n",
              "</style>\n",
              "<table border=\"1\" class=\"dataframe\">\n",
              "  <thead>\n",
              "    <tr style=\"text-align: right;\">\n",
              "      <th></th>\n",
              "      <th>Кор. коэф</th>\n",
              "      <th>Коэффициент</th>\n",
              "    </tr>\n",
              "  </thead>\n",
              "  <tbody>\n",
              "    <tr>\n",
              "      <th>Por</th>\n",
              "      <td>0.86</td>\n",
              "      <td>293.036246</td>\n",
              "    </tr>\n",
              "    <tr>\n",
              "      <th>AI</th>\n",
              "      <td>-0.39</td>\n",
              "      <td>-200.030912</td>\n",
              "    </tr>\n",
              "    <tr>\n",
              "      <th>Brittle</th>\n",
              "      <td>0.24</td>\n",
              "      <td>27.640982</td>\n",
              "    </tr>\n",
              "    <tr>\n",
              "      <th>VR</th>\n",
              "      <td>0.32</td>\n",
              "      <td>517.402726</td>\n",
              "    </tr>\n",
              "  </tbody>\n",
              "</table>\n",
              "</div>"
            ],
            "text/plain": [
              "         Кор. коэф  Коэффициент\n",
              "Por           0.86   293.036246\n",
              "AI           -0.39  -200.030912\n",
              "Brittle       0.24    27.640982\n",
              "VR            0.32   517.402726"
            ]
          },
          "execution_count": 61,
          "metadata": {},
          "output_type": "execute_result"
        }
      ],
      "source": [
        "predict_df_new = X_new @ w_hat_new\n",
        "\n",
        "print(f\"MAPE: {mean_absolute_percentage_error(y,predict_df_new)*100:.2f}\")\n",
        "\n",
        "pd.concat([corr.round(2).Prod[[1, 3, 4, 6]], w_hat_df_new[1:]], axis=1).rename(\n",
        "    columns={\"Prod\": \"Кор. коэф\"}\n",
        ")"
      ]
    },
    {
      "cell_type": "markdown",
      "id": "7c136108",
      "metadata": {},
      "source": [
        "- Ушла проблема, когда при увеличении значения мы получали уменьшение целевого параметра, при ожидаемом увеличении;\n",
        "- Ухудшилась метрика; Но т.к. не делалось разбиений на train/test или фолдов, сложно говорить, не переобучалась ли модель;"
      ]
    },
    {
      "cell_type": "markdown",
      "id": "7d50db12",
      "metadata": {
        "id": "7d50db12"
      },
      "source": [
        "### Задание 5.6. (1 балл)\n",
        "\n",
        "Наконец, давайте построим модель линейной регрессии из библиотеки `scikit-learn (sklearn)` и сравним результаты её работы с теми, что нам удалось получить вручную. \n",
        "\n",
        "Постройте модель линейной регрессии на обновлённых после удаления факторов данных по методу наименьших квадратов. Для этого воспользуйтесь классом `LinearRegression` из библиотеки `sklearn`. Выведите значения полученных коэффициентов, округлённые до целого.\n",
        "\n",
        "Сделайте прогноз для всего обучающего набора данных и рассчитайте значение выбранной вами метрики (или метрик).\n",
        "\n",
        "Сравните результаты библиотечной реализации с тем, что вы получили ранее. "
      ]
    },
    {
      "cell_type": "markdown",
      "id": "emu5D3w278JP",
      "metadata": {
        "id": "emu5D3w278JP"
      },
      "source": [
        "**Критерии оценивания:**\n",
        "\n",
        "- Задание выполнено верно, учтены все условия (**1 балл**): \n",
        "    * на основе отобранных факторов построена модель линейной регрессии из библиотеки sklearn и найдены параметры модели, соответствующие каждому из факторов;\n",
        "    * построен прогноз для всего обучающего набора данных и рассчитано значение метрики (метрика должна быть выбрана корректно);\n",
        "    * приведён вывод о соответствии результатов, полученных вручную и с помощью библиотеки.\n",
        "- Задание выполнено неверно, не учтено одно или несколько условий (**0 баллов**)."
      ]
    },
    {
      "cell_type": "code",
      "execution_count": 62,
      "id": "Gpdpfq59AKGu",
      "metadata": {
        "id": "Gpdpfq59AKGu"
      },
      "outputs": [
        {
          "data": {
            "text/html": [
              "<div>\n",
              "<style scoped>\n",
              "    .dataframe tbody tr th:only-of-type {\n",
              "        vertical-align: middle;\n",
              "    }\n",
              "\n",
              "    .dataframe tbody tr th {\n",
              "        vertical-align: top;\n",
              "    }\n",
              "\n",
              "    .dataframe thead th {\n",
              "        text-align: right;\n",
              "    }\n",
              "</style>\n",
              "<table border=\"1\" class=\"dataframe\">\n",
              "  <thead>\n",
              "    <tr style=\"text-align: right;\">\n",
              "      <th></th>\n",
              "      <th>Коэффициент</th>\n",
              "    </tr>\n",
              "  </thead>\n",
              "  <tbody>\n",
              "    <tr>\n",
              "      <th>Intercept</th>\n",
              "      <td>-1835.0</td>\n",
              "    </tr>\n",
              "    <tr>\n",
              "      <th>Por</th>\n",
              "      <td>293.0</td>\n",
              "    </tr>\n",
              "    <tr>\n",
              "      <th>AI</th>\n",
              "      <td>-200.0</td>\n",
              "    </tr>\n",
              "    <tr>\n",
              "      <th>Brittle</th>\n",
              "      <td>28.0</td>\n",
              "    </tr>\n",
              "    <tr>\n",
              "      <th>VR</th>\n",
              "      <td>517.0</td>\n",
              "    </tr>\n",
              "  </tbody>\n",
              "</table>\n",
              "</div>"
            ],
            "text/plain": [
              "           Коэффициент\n",
              "Intercept      -1835.0\n",
              "Por              293.0\n",
              "AI              -200.0\n",
              "Brittle           28.0\n",
              "VR               517.0"
            ]
          },
          "metadata": {},
          "output_type": "display_data"
        },
        {
          "name": "stdout",
          "output_type": "stream",
          "text": [
            "MAPE: 4.04\n"
          ]
        }
      ],
      "source": [
        "model = LinearRegression(fit_intercept=False)\n",
        "\n",
        "model.fit(X_new, y)\n",
        "\n",
        "w_coeff_df_lr = pd.DataFrame(\n",
        "    data=model.coef_,\n",
        "    index=np.hstack(\n",
        "        (\n",
        "            [\"Intercept\"],\n",
        "            np.hstack([df.columns[1], df.columns[3:5], df.columns[6]]),\n",
        "        )\n",
        "    ),\n",
        "    columns=[\"Коэффициент\"],\n",
        ")\n",
        "display(w_coeff_df_lr.round())\n",
        "\n",
        "predict_df_new_lr = model.predict(X_new)\n",
        "\n",
        "print(f\"MAPE: {mean_absolute_percentage_error(y,predict_df_new)*100:.2f}\")"
      ]
    },
    {
      "cell_type": "code",
      "execution_count": 63,
      "id": "1f7a4e49",
      "metadata": {},
      "outputs": [
        {
          "name": "stdout",
          "output_type": "stream",
          "text": [
            "MAPE on train: 4.02%\n",
            "MAPE on test: 4.23%\n"
          ]
        }
      ],
      "source": [
        "model_save_results(model, X_new, y, model_name=\"LinearRegression\")"
      ]
    },
    {
      "cell_type": "markdown",
      "id": "34349c50",
      "metadata": {},
      "source": [
        "- Результаты модели LinearRegression из библиотеки sklearn, идентичны значениям коэффициентов, полученных нами путем путем применения матричной формулы;\n"
      ]
    },
    {
      "cell_type": "markdown",
      "id": "5346338e",
      "metadata": {
        "id": "5346338e"
      },
      "source": [
        "## Практика: полиномиальная регрессия и регуляризация"
      ]
    },
    {
      "cell_type": "markdown",
      "id": "aad9e3a6",
      "metadata": {
        "id": "aad9e3a6"
      },
      "source": [
        "Мы продолжаем работать над задачей от владельца компании «Газ-Таз-Ваз-Нефть» Василия.\n",
        "\n",
        "Ранее мы построили модель линейной регрессии, которая прогнозирует выработку газа на скважине. Для этого мы с помощью матрицы корреляций и рассуждений отобрали некоррелированные, значимые для предсказания признаки. **Далее мы будем использовать именно их (см. задание 5.5).**\n",
        "\n",
        "Мы хотим улучшить результат — уменьшить ошибку прогноза. Для этого мы воспользуемся моделью полиномиальной регрессии третьей степени. Однако теперь мы знаем, что полиномиальным моделям очень легко переобучиться под исходную выборку. Так как данных у нас не так много (всего 200 скважин), то для контроля качества модели мы будем использовать кросс-валидацию. \n",
        "\n",
        "Приступим! Выполните задания 8.1–8.5:\n"
      ]
    },
    {
      "cell_type": "code",
      "execution_count": 64,
      "id": "18506d1b",
      "metadata": {
        "id": "18506d1b"
      },
      "outputs": [],
      "source": [
        "from sklearn.preprocessing import PolynomialFeatures, StandardScaler\n",
        "from sklearn.linear_model import LinearRegression"
      ]
    },
    {
      "cell_type": "markdown",
      "id": "bfbfea8d",
      "metadata": {
        "id": "bfbfea8d"
      },
      "source": [
        "### Задание 8.1. (1 балл)\n",
        "\n",
        "Стандаризируйте признаки с помощью `StandartScaler` из библиотеки `sklearn`. \n",
        "\n",
        "Затем сгенерируйте полиномиальные признаки третьего порядка на факторах, которые вы выбрали для обучения моделей. Для этого воспользуйтесь генератором полиномов `PolynomialFeatures` из библиотеки `sklearn`. Параметр `include_bias` установите в значение `False`.\n",
        "\n",
        "Выведите на экран, сколько факторов у вас получилось после генерации полиномиальных признаков.\n",
        "\n",
        "**Важно:** стандартизацию необходимо произвести до генерации полиномиальных факторов!\n",
        "\n",
        "Обучите модель линейной регрессии из библиотеки `sklearn` (`LinearRegression`) на полученных полиномиальных факторах.\n",
        "\n",
        "Используя кросс-валидацию оцените среднее значение выбранной вами метрики (или метрик) на тренировочных и валидационных фолдах.\n",
        "\n",
        "Проинтерпретируйте полученные результаты."
      ]
    },
    {
      "cell_type": "markdown",
      "id": "Y8oAhQkr8gV-",
      "metadata": {
        "id": "Y8oAhQkr8gV-"
      },
      "source": [
        "**Критерии оценивания:**\n",
        "\n",
        "- Задание выполнено верно, учтены все условия (**1 балл**): \n",
        "    * на основе отобранных факторов сгенерированы полиномиальные признаки третьего порядка;\n",
        "    * построена модель полиномиальной регрессии (линейной регрессии на полиномиальных признаках);\n",
        "    * с помощью кросс-валидации оценено среднее значение выбранной студентом метрики (или метрик) на тренировочных и валидационных фолдах (метрика должна быть выбрана корректно).\n",
        "- Задание выполнено неверно, не учтено одно или несколько из условий (**0 баллов**)."
      ]
    },
    {
      "cell_type": "code",
      "execution_count": 65,
      "id": "-ln3bx8NFNRw",
      "metadata": {
        "id": "-ln3bx8NFNRw"
      },
      "outputs": [
        {
          "name": "stdout",
          "output_type": "stream",
          "text": [
            "MAPE on train: 1.77%\n",
            "MAPE on test: 2.68%\n"
          ]
        }
      ],
      "source": [
        "scaler = StandardScaler()\n",
        "X_poly = scaler.fit_transform(X_new[:, 1:])\n",
        "\n",
        "poly = PolynomialFeatures(degree=3, include_bias=False)\n",
        "X_poly_transformed = poly.fit_transform(X_poly)\n",
        "\n",
        "lr = LinearRegression()\n",
        "\n",
        "model_save_results(\n",
        "    lr,\n",
        "    X_poly_transformed,\n",
        "    y,\n",
        "    model_name=\"LinearRegression_PolynomialFeatures\",\n",
        "    poly=\"Да\",\n",
        ")"
      ]
    },
    {
      "cell_type": "markdown",
      "id": "218ee9ed",
      "metadata": {},
      "source": [
        "- Добавление полиномиальных фичей позволило снизить bias линейной модели."
      ]
    },
    {
      "cell_type": "markdown",
      "id": "63d06013",
      "metadata": {
        "id": "63d06013"
      },
      "source": [
        "### Задание 8.2. (2 балла)\n",
        "\n",
        "Теперь попробуем воспользоваться линейной регрессией с регуляризацией. Для начала возьмём $L_1$-регуляризацию.\n",
        "\n",
        "Обучите модель `Lasso` из библиотеки `sklearn` на полученных полиномиальных факторах, предварительно стандартизировав факторы. \n",
        "\n",
        "Коэффициент регуляризации (`alpha`) подберите самостоятельно с помощью любого известного вам метода подбора гиперпаметров.\n",
        "\n",
        "Используя кросс-валидацию, оцените среднее значение выбранной вами метрики (или метрик) на тренировочных и валидационных фолдах.\n",
        "\n",
        "Проинтерпретируйте полученные результаты."
      ]
    },
    {
      "cell_type": "markdown",
      "id": "z24YUfuA9rUq",
      "metadata": {
        "id": "z24YUfuA9rUq"
      },
      "source": [
        "**Критерии оценивания:**\n",
        "\n",
        "- Задание выполнено верно, учтены все условия (**2 балла**): \n",
        "    * правильно построена модель полиномиальной регрессии (линейной регрессии на полиномиальных признаках) с регуляризацией (Lasso), учтены условия необходимости масштабирования факторов для построения модели;\n",
        "    * приведён код для подбора параметра регуляризации (вручную или с помощью библиотечных инструментов);\n",
        "    * с помощью кросс-валидации оценено среднее значение выбранной студентом метрики (или метрик) на тренировочных и валидационных фолдах (метрика должна быть выбрана корректно).\n",
        "\n",
        "- Задание выполнено верно, но не учтено одно из условий (**1 балл**).\n",
        "- Задание выполнено неверно, не учтено несколько условий (**0 баллов**)."
      ]
    },
    {
      "cell_type": "code",
      "execution_count": 66,
      "id": "e52ba47f",
      "metadata": {},
      "outputs": [
        {
          "name": "stderr",
          "output_type": "stream",
          "text": [
            "/usr/local/lib/python3.10/site-packages/sklearn/linear_model/_coordinate_descent.py:678: ConvergenceWarning: Objective did not converge. You might want to increase the number of iterations, check the scale of the features or consider increasing regularisation. Duality gap: 1.955e+04, tolerance: 1.612e+04\n",
            "  model = cd_fast.enet_coordinate_descent(\n",
            "/usr/local/lib/python3.10/site-packages/sklearn/linear_model/_coordinate_descent.py:678: ConvergenceWarning: Objective did not converge. You might want to increase the number of iterations, check the scale of the features or consider increasing regularisation. Duality gap: 1.183e+05, tolerance: 1.545e+04\n",
            "  model = cd_fast.enet_coordinate_descent(\n",
            "/usr/local/lib/python3.10/site-packages/sklearn/linear_model/_coordinate_descent.py:678: ConvergenceWarning: Objective did not converge. You might want to increase the number of iterations, check the scale of the features or consider increasing regularisation. Duality gap: 3.115e+04, tolerance: 1.617e+04\n",
            "  model = cd_fast.enet_coordinate_descent(\n",
            "/usr/local/lib/python3.10/site-packages/sklearn/linear_model/_coordinate_descent.py:678: ConvergenceWarning: Objective did not converge. You might want to increase the number of iterations, check the scale of the features or consider increasing regularisation. Duality gap: 3.500e+04, tolerance: 1.474e+04\n",
            "  model = cd_fast.enet_coordinate_descent(\n",
            "/usr/local/lib/python3.10/site-packages/sklearn/linear_model/_coordinate_descent.py:678: ConvergenceWarning: Objective did not converge. You might want to increase the number of iterations, check the scale of the features or consider increasing regularisation. Duality gap: 4.589e+04, tolerance: 1.545e+04\n",
            "  model = cd_fast.enet_coordinate_descent(\n",
            "/usr/local/lib/python3.10/site-packages/sklearn/linear_model/_coordinate_descent.py:678: ConvergenceWarning: Objective did not converge. You might want to increase the number of iterations, check the scale of the features or consider increasing regularisation. Duality gap: 1.694e+04, tolerance: 1.617e+04\n",
            "  model = cd_fast.enet_coordinate_descent(\n",
            "/usr/local/lib/python3.10/site-packages/sklearn/linear_model/_coordinate_descent.py:678: ConvergenceWarning: Objective did not converge. You might want to increase the number of iterations, check the scale of the features or consider increasing regularisation. Duality gap: 2.327e+04, tolerance: 1.545e+04\n",
            "  model = cd_fast.enet_coordinate_descent(\n"
          ]
        },
        {
          "data": {
            "text/plain": [
              "{'alpha': 5}"
            ]
          },
          "execution_count": 66,
          "metadata": {},
          "output_type": "execute_result"
        }
      ],
      "source": [
        "from sklearn.linear_model import Lasso\n",
        "from sklearn.model_selection import GridSearchCV\n",
        "\n",
        "param = {\"alpha\": [0.1, 0.2, 0.3, 1, 1.5, 2, 2.5, 3, 3.5, 4, 5, 10, 15, 20, 100]}\n",
        "\n",
        "lasso = Lasso()\n",
        "\n",
        "grid_serach = GridSearchCV(\n",
        "    scoring=\"neg_mean_absolute_percentage_error\",\n",
        "    estimator=lasso,\n",
        "    param_grid=param,\n",
        "    cv=5,\n",
        "    n_jobs=-1,\n",
        ")\n",
        "\n",
        "grid_serach.fit(X_poly_transformed, y)\n",
        "grid_serach.best_params_"
      ]
    },
    {
      "cell_type": "code",
      "execution_count": 67,
      "id": "IJ5b5G8qFz-r",
      "metadata": {
        "id": "IJ5b5G8qFz-r"
      },
      "outputs": [
        {
          "name": "stdout",
          "output_type": "stream",
          "text": [
            "MAPE on train: 1.83%\n",
            "MAPE on test: 2.28%\n"
          ]
        }
      ],
      "source": [
        "model_save_results(\n",
        "    Lasso(alpha=5),\n",
        "    X_poly_transformed,\n",
        "    y,\n",
        "    model_name=\"LinearRegression_PolynomialFeatures_Lasso\",\n",
        "    poly=\"Да\",\n",
        "    params={\"alpha\": 5},\n",
        ")"
      ]
    },
    {
      "cell_type": "markdown",
      "id": "Se0OGR8UF2Td",
      "metadata": {
        "id": "Se0OGR8UF2Td"
      },
      "source": [
        "Была построена модель линейной регрессией с регуляризацией L1-Lasso.\n",
        "\n"
      ]
    },
    {
      "cell_type": "markdown",
      "id": "2975ae60",
      "metadata": {
        "id": "2975ae60"
      },
      "source": [
        "### Задание 8.3. (2 балла)\n",
        "\n",
        "Проделаем то же самое с $L_2$-регуляризацией.\n",
        "\n",
        "Обучите модель `Ridge` из библиотеки `sklearn` на полученных полиномиальных факторах, предварительно стандартизировав факторы. \n",
        "\n",
        "Коэффициент регуляризации (`alpha`) подберите самостоятельно с помощью любого известного вам метода подбора гиперпаметров.\n",
        "\n",
        "Используя кросс-валидацию оцените среднее значение выбранной вами метрики (или метрик) на тренировочных и валидационных фолдах.\n",
        "\n",
        "Проинтерпретируйте полученные результаты."
      ]
    },
    {
      "cell_type": "code",
      "execution_count": 68,
      "id": "UfPGyNsjGGS8",
      "metadata": {
        "id": "UfPGyNsjGGS8"
      },
      "outputs": [
        {
          "name": "stdout",
          "output_type": "stream",
          "text": [
            "{'alpha': 0.2}\n"
          ]
        }
      ],
      "source": [
        "from sklearn.linear_model import Ridge\n",
        "\n",
        "param = {\"alpha\": [0.1, 0.2, 0.3, 1, 1.5, 2, 2.5, 3, 3.5, 4, 5, 10, 15, 20, 100]}\n",
        "\n",
        "ridge = Ridge()\n",
        "\n",
        "grid_serach = GridSearchCV(\n",
        "    scoring=\"neg_mean_absolute_percentage_error\",\n",
        "    estimator=ridge,\n",
        "    param_grid=param,\n",
        "    cv=5,\n",
        "    n_jobs=-1,\n",
        ")\n",
        "\n",
        "grid_serach.fit(X_poly_transformed, y)\n",
        "\n",
        "print(grid_serach.best_params_)"
      ]
    },
    {
      "cell_type": "code",
      "execution_count": 69,
      "id": "efc9a959",
      "metadata": {},
      "outputs": [
        {
          "name": "stdout",
          "output_type": "stream",
          "text": [
            "MAPE on train: 1.77%\n",
            "MAPE on test: 2.67%\n"
          ]
        }
      ],
      "source": [
        "model_save_results(\n",
        "    Ridge(alpha=0.2),\n",
        "    X_poly_transformed,\n",
        "    y,\n",
        "    model_name=\"LinearRegression_PolynomialFeatures_Ridge\",\n",
        "    poly=\"Да\",\n",
        "    params={\"alpha\": 0.2},\n",
        ")"
      ]
    },
    {
      "cell_type": "markdown",
      "id": "dQBd7ny_GIi1",
      "metadata": {
        "id": "dQBd7ny_GIi1"
      },
      "source": [
        "Была построена модель линейной регрессией с регуляризацией L2-Ridge."
      ]
    },
    {
      "cell_type": "markdown",
      "id": "86pXnWE7-5ch",
      "metadata": {
        "id": "86pXnWE7-5ch"
      },
      "source": [
        "**Критерии оценивания:**\n",
        "\n",
        "- Задание выполнено верно, учтены все условия (**2 балла**): \n",
        "    * правильно построена модель полиномиальной регрессии (линейной регрессии на полиномиальных признаках) с регуляризацией (Ridge), учтены условия необходимости масштабирования факторов для построения модели;\n",
        "    * приведён код для подбора параметра регуляризации (вручную или с помощью библиотечных инструментов);\n",
        "    * с помощью кросс-валидации оценено среднее значение выбранной студентом метрики (или метрик) на тренировочных и валидационных фолдах (метрика должна быть выбрана корректно).\n",
        "\n",
        "- Задание выполнено верно, но не учтено одно из условий (**1 балл**).\n",
        "- Задание выполнено неверно, не учтено несколько условий (**0 баллов**)."
      ]
    },
    {
      "cell_type": "markdown",
      "id": "7ad85b78",
      "metadata": {
        "id": "7ad85b78"
      },
      "source": [
        "### Задание 8.4. (2 балла)\n",
        "\n",
        "Наконец, настало время комбинировать $L_1$ и $L_2$ -регуляризации.\n",
        "\n",
        "Обучите модель `ElasticNet` из библиотеки `sklearn` на полученных полиномиальных факторах, предварительно стандартизировав факторы. \n",
        "\n",
        "Коэффициенты регуляризации (`alpha` и `l1-ratio`) подберите самостоятельно с помощью любого известного вам метода подбора гиперпаметров.\n",
        "\n",
        "Используя кросс-валидацию, оцените среднее значение метрики MAPE на тренировочных и валидационных фолдах.\n",
        "\n",
        "Проинтерпретируйте полученные результаты."
      ]
    },
    {
      "cell_type": "markdown",
      "id": "sy8ESceQ-__u",
      "metadata": {
        "id": "sy8ESceQ-__u"
      },
      "source": [
        "**Критерии оценивания:**\n",
        "\n",
        "- Задание выполнено верно, учтены все условия (**2 балла**): \n",
        "    * правильно построена модель полиномиальной регрессии (линейной регрессии на полиномиальных признаках) с регуляризацией (ElasticNet), учтены условия необходимости масштабирования факторов для построения модели;\n",
        "    * приведён код для подбора параметра регуляризации (вручную или с помощью библиотечных инструментов);\n",
        "    * с помощью кросс-валидации оценено среднее значение выбранной студентом метрики (или метрик) на тренировочных и валидационных фолдах (метрика должна быть выбрана корректно).\n",
        "\n",
        "- Задание выполнено верно, но не учтено одно из условий (**1 балл**).\n",
        "- Задание выполнено неверно, не учтено несколько условий (**0 баллов**)."
      ]
    },
    {
      "cell_type": "code",
      "execution_count": 70,
      "id": "-Yi3P20hQnLS",
      "metadata": {
        "id": "-Yi3P20hQnLS"
      },
      "outputs": [
        {
          "name": "stderr",
          "output_type": "stream",
          "text": [
            "/usr/local/lib/python3.10/site-packages/sklearn/linear_model/_coordinate_descent.py:678: ConvergenceWarning: Objective did not converge. You might want to increase the number of iterations, check the scale of the features or consider increasing regularisation. Duality gap: 1.140e+05, tolerance: 1.617e+04\n",
            "  model = cd_fast.enet_coordinate_descent(\n",
            "/usr/local/lib/python3.10/site-packages/sklearn/linear_model/_coordinate_descent.py:678: ConvergenceWarning: Objective did not converge. You might want to increase the number of iterations, check the scale of the features or consider increasing regularisation. Duality gap: 6.948e+04, tolerance: 1.582e+04\n",
            "  model = cd_fast.enet_coordinate_descent(\n",
            "/usr/local/lib/python3.10/site-packages/sklearn/linear_model/_coordinate_descent.py:678: ConvergenceWarning: Objective did not converge. You might want to increase the number of iterations, check the scale of the features or consider increasing regularisation. Duality gap: 1.003e+06, tolerance: 1.545e+04\n",
            "  model = cd_fast.enet_coordinate_descent(\n",
            "/usr/local/lib/python3.10/site-packages/sklearn/linear_model/_coordinate_descent.py:678: ConvergenceWarning: Objective did not converge. You might want to increase the number of iterations, check the scale of the features or consider increasing regularisation. Duality gap: 1.262e+06, tolerance: 1.474e+04\n",
            "  model = cd_fast.enet_coordinate_descent(\n",
            "/usr/local/lib/python3.10/site-packages/sklearn/linear_model/_coordinate_descent.py:678: ConvergenceWarning: Objective did not converge. You might want to increase the number of iterations, check the scale of the features or consider increasing regularisation. Duality gap: 2.375e+05, tolerance: 1.612e+04\n",
            "  model = cd_fast.enet_coordinate_descent(\n",
            "/usr/local/lib/python3.10/site-packages/sklearn/linear_model/_coordinate_descent.py:678: ConvergenceWarning: Objective did not converge. You might want to increase the number of iterations, check the scale of the features or consider increasing regularisation. Duality gap: 4.390e+05, tolerance: 1.612e+04\n",
            "  model = cd_fast.enet_coordinate_descent(\n",
            "/usr/local/lib/python3.10/site-packages/sklearn/linear_model/_coordinate_descent.py:678: ConvergenceWarning: Objective did not converge. You might want to increase the number of iterations, check the scale of the features or consider increasing regularisation. Duality gap: 7.989e+05, tolerance: 1.545e+04\n",
            "  model = cd_fast.enet_coordinate_descent(\n",
            "/usr/local/lib/python3.10/site-packages/sklearn/linear_model/_coordinate_descent.py:678: ConvergenceWarning: Objective did not converge. You might want to increase the number of iterations, check the scale of the features or consider increasing regularisation. Duality gap: 1.057e+06, tolerance: 1.474e+04\n",
            "  model = cd_fast.enet_coordinate_descent(\n",
            "/usr/local/lib/python3.10/site-packages/sklearn/linear_model/_coordinate_descent.py:678: ConvergenceWarning: Objective did not converge. You might want to increase the number of iterations, check the scale of the features or consider increasing regularisation. Duality gap: 4.805e+04, tolerance: 1.582e+04\n",
            "  model = cd_fast.enet_coordinate_descent(\n",
            "/usr/local/lib/python3.10/site-packages/sklearn/linear_model/_coordinate_descent.py:678: ConvergenceWarning: Objective did not converge. You might want to increase the number of iterations, check the scale of the features or consider increasing regularisation. Duality gap: 7.231e+05, tolerance: 1.545e+04\n",
            "  model = cd_fast.enet_coordinate_descent(\n",
            "/usr/local/lib/python3.10/site-packages/sklearn/linear_model/_coordinate_descent.py:678: ConvergenceWarning: Objective did not converge. You might want to increase the number of iterations, check the scale of the features or consider increasing regularisation. Duality gap: 2.075e+05, tolerance: 1.612e+04\n",
            "  model = cd_fast.enet_coordinate_descent(\n",
            "/usr/local/lib/python3.10/site-packages/sklearn/linear_model/_coordinate_descent.py:678: ConvergenceWarning: Objective did not converge. You might want to increase the number of iterations, check the scale of the features or consider increasing regularisation. Duality gap: 3.752e+04, tolerance: 1.617e+04\n",
            "  model = cd_fast.enet_coordinate_descent(\n",
            "/usr/local/lib/python3.10/site-packages/sklearn/linear_model/_coordinate_descent.py:678: ConvergenceWarning: Objective did not converge. You might want to increase the number of iterations, check the scale of the features or consider increasing regularisation. Duality gap: 2.271e+04, tolerance: 1.617e+04\n",
            "  model = cd_fast.enet_coordinate_descent(\n",
            "/usr/local/lib/python3.10/site-packages/sklearn/linear_model/_coordinate_descent.py:678: ConvergenceWarning: Objective did not converge. You might want to increase the number of iterations, check the scale of the features or consider increasing regularisation. Duality gap: 5.305e+04, tolerance: 1.582e+04\n",
            "  model = cd_fast.enet_coordinate_descent(\n",
            "/usr/local/lib/python3.10/site-packages/sklearn/linear_model/_coordinate_descent.py:678: ConvergenceWarning: Objective did not converge. You might want to increase the number of iterations, check the scale of the features or consider increasing regularisation. Duality gap: 9.059e+05, tolerance: 1.474e+04\n",
            "  model = cd_fast.enet_coordinate_descent(\n",
            "/usr/local/lib/python3.10/site-packages/sklearn/linear_model/_coordinate_descent.py:678: ConvergenceWarning: Objective did not converge. You might want to increase the number of iterations, check the scale of the features or consider increasing regularisation. Duality gap: 1.634e+05, tolerance: 1.612e+04\n",
            "  model = cd_fast.enet_coordinate_descent(\n",
            "/usr/local/lib/python3.10/site-packages/sklearn/linear_model/_coordinate_descent.py:678: ConvergenceWarning: Objective did not converge. You might want to increase the number of iterations, check the scale of the features or consider increasing regularisation. Duality gap: 6.500e+05, tolerance: 1.545e+04\n",
            "  model = cd_fast.enet_coordinate_descent(\n",
            "/usr/local/lib/python3.10/site-packages/sklearn/linear_model/_coordinate_descent.py:678: ConvergenceWarning: Objective did not converge. You might want to increase the number of iterations, check the scale of the features or consider increasing regularisation. Duality gap: 6.418e+04, tolerance: 1.582e+04\n",
            "  model = cd_fast.enet_coordinate_descent(\n",
            "/usr/local/lib/python3.10/site-packages/sklearn/linear_model/_coordinate_descent.py:678: ConvergenceWarning: Objective did not converge. You might want to increase the number of iterations, check the scale of the features or consider increasing regularisation. Duality gap: 2.069e+05, tolerance: 1.612e+04\n",
            "  model = cd_fast.enet_coordinate_descent(\n",
            "/usr/local/lib/python3.10/site-packages/sklearn/linear_model/_coordinate_descent.py:678: ConvergenceWarning: Objective did not converge. You might want to increase the number of iterations, check the scale of the features or consider increasing regularisation. Duality gap: 6.998e+05, tolerance: 1.474e+04\n",
            "  model = cd_fast.enet_coordinate_descent(\n",
            "/usr/local/lib/python3.10/site-packages/sklearn/linear_model/_coordinate_descent.py:678: ConvergenceWarning: Objective did not converge. You might want to increase the number of iterations, check the scale of the features or consider increasing regularisation. Duality gap: 6.513e+05, tolerance: 1.545e+04\n",
            "  model = cd_fast.enet_coordinate_descent(\n",
            "/usr/local/lib/python3.10/site-packages/sklearn/linear_model/_coordinate_descent.py:678: ConvergenceWarning: Objective did not converge. You might want to increase the number of iterations, check the scale of the features or consider increasing regularisation. Duality gap: 9.789e+04, tolerance: 1.582e+04\n",
            "  model = cd_fast.enet_coordinate_descent(\n",
            "/usr/local/lib/python3.10/site-packages/sklearn/linear_model/_coordinate_descent.py:678: ConvergenceWarning: Objective did not converge. You might want to increase the number of iterations, check the scale of the features or consider increasing regularisation. Duality gap: 8.049e+04, tolerance: 1.582e+04\n",
            "  model = cd_fast.enet_coordinate_descent(\n",
            "/usr/local/lib/python3.10/site-packages/sklearn/linear_model/_coordinate_descent.py:678: ConvergenceWarning: Objective did not converge. You might want to increase the number of iterations, check the scale of the features or consider increasing regularisation. Duality gap: 7.904e+05, tolerance: 1.474e+04\n",
            "  model = cd_fast.enet_coordinate_descent(\n",
            "/usr/local/lib/python3.10/site-packages/sklearn/linear_model/_coordinate_descent.py:678: ConvergenceWarning: Objective did not converge. You might want to increase the number of iterations, check the scale of the features or consider increasing regularisation. Duality gap: 6.849e+05, tolerance: 1.545e+04\n",
            "  model = cd_fast.enet_coordinate_descent(\n",
            "/usr/local/lib/python3.10/site-packages/sklearn/linear_model/_coordinate_descent.py:678: ConvergenceWarning: Objective did not converge. You might want to increase the number of iterations, check the scale of the features or consider increasing regularisation. Duality gap: 4.759e+05, tolerance: 1.612e+04\n",
            "  model = cd_fast.enet_coordinate_descent(\n",
            "/usr/local/lib/python3.10/site-packages/sklearn/linear_model/_coordinate_descent.py:678: ConvergenceWarning: Objective did not converge. You might want to increase the number of iterations, check the scale of the features or consider increasing regularisation. Duality gap: 3.448e+05, tolerance: 1.612e+04\n",
            "  model = cd_fast.enet_coordinate_descent(\n",
            "/usr/local/lib/python3.10/site-packages/sklearn/linear_model/_coordinate_descent.py:678: ConvergenceWarning: Objective did not converge. You might want to increase the number of iterations, check the scale of the features or consider increasing regularisation. Duality gap: 6.401e+05, tolerance: 1.474e+04\n",
            "  model = cd_fast.enet_coordinate_descent(\n",
            "/usr/local/lib/python3.10/site-packages/sklearn/linear_model/_coordinate_descent.py:678: ConvergenceWarning: Objective did not converge. You might want to increase the number of iterations, check the scale of the features or consider increasing regularisation. Duality gap: 5.677e+05, tolerance: 1.474e+04\n",
            "  model = cd_fast.enet_coordinate_descent(\n",
            "/usr/local/lib/python3.10/site-packages/sklearn/linear_model/_coordinate_descent.py:678: ConvergenceWarning: Objective did not converge. You might want to increase the number of iterations, check the scale of the features or consider increasing regularisation. Duality gap: 1.964e+04, tolerance: 1.617e+04\n",
            "  model = cd_fast.enet_coordinate_descent(\n",
            "/usr/local/lib/python3.10/site-packages/sklearn/linear_model/_coordinate_descent.py:678: ConvergenceWarning: Objective did not converge. You might want to increase the number of iterations, check the scale of the features or consider increasing regularisation. Duality gap: 6.496e+05, tolerance: 1.545e+04\n",
            "  model = cd_fast.enet_coordinate_descent(\n",
            "/usr/local/lib/python3.10/site-packages/sklearn/linear_model/_coordinate_descent.py:678: ConvergenceWarning: Objective did not converge. You might want to increase the number of iterations, check the scale of the features or consider increasing regularisation. Duality gap: 6.478e+05, tolerance: 1.545e+04\n",
            "  model = cd_fast.enet_coordinate_descent(\n",
            "/usr/local/lib/python3.10/site-packages/sklearn/linear_model/_coordinate_descent.py:678: ConvergenceWarning: Objective did not converge. You might want to increase the number of iterations, check the scale of the features or consider increasing regularisation. Duality gap: 9.400e+04, tolerance: 1.582e+04\n",
            "  model = cd_fast.enet_coordinate_descent(\n",
            "/usr/local/lib/python3.10/site-packages/sklearn/linear_model/_coordinate_descent.py:678: ConvergenceWarning: Objective did not converge. You might want to increase the number of iterations, check the scale of the features or consider increasing regularisation. Duality gap: 4.990e+05, tolerance: 1.612e+04\n",
            "  model = cd_fast.enet_coordinate_descent(\n",
            "/usr/local/lib/python3.10/site-packages/sklearn/linear_model/_coordinate_descent.py:678: ConvergenceWarning: Objective did not converge. You might want to increase the number of iterations, check the scale of the features or consider increasing regularisation. Duality gap: 6.000e+05, tolerance: 1.612e+04\n",
            "  model = cd_fast.enet_coordinate_descent(\n",
            "/usr/local/lib/python3.10/site-packages/sklearn/linear_model/_coordinate_descent.py:678: ConvergenceWarning: Objective did not converge. You might want to increase the number of iterations, check the scale of the features or consider increasing regularisation. Duality gap: 1.029e+05, tolerance: 1.582e+04\n",
            "  model = cd_fast.enet_coordinate_descent(\n",
            "/usr/local/lib/python3.10/site-packages/sklearn/linear_model/_coordinate_descent.py:678: ConvergenceWarning: Objective did not converge. You might want to increase the number of iterations, check the scale of the features or consider increasing regularisation. Duality gap: 1.246e+05, tolerance: 1.617e+04\n",
            "  model = cd_fast.enet_coordinate_descent(\n",
            "/usr/local/lib/python3.10/site-packages/sklearn/linear_model/_coordinate_descent.py:678: ConvergenceWarning: Objective did not converge. You might want to increase the number of iterations, check the scale of the features or consider increasing regularisation. Duality gap: 5.503e+05, tolerance: 1.474e+04\n",
            "  model = cd_fast.enet_coordinate_descent(\n",
            "/usr/local/lib/python3.10/site-packages/sklearn/linear_model/_coordinate_descent.py:678: ConvergenceWarning: Objective did not converge. You might want to increase the number of iterations, check the scale of the features or consider increasing regularisation. Duality gap: 5.374e+05, tolerance: 1.474e+04\n",
            "  model = cd_fast.enet_coordinate_descent(\n",
            "/usr/local/lib/python3.10/site-packages/sklearn/linear_model/_coordinate_descent.py:678: ConvergenceWarning: Objective did not converge. You might want to increase the number of iterations, check the scale of the features or consider increasing regularisation. Duality gap: 6.398e+05, tolerance: 1.545e+04\n",
            "  model = cd_fast.enet_coordinate_descent(\n",
            "/usr/local/lib/python3.10/site-packages/sklearn/linear_model/_coordinate_descent.py:678: ConvergenceWarning: Objective did not converge. You might want to increase the number of iterations, check the scale of the features or consider increasing regularisation. Duality gap: 3.484e+04, tolerance: 1.617e+04\n",
            "  model = cd_fast.enet_coordinate_descent(\n",
            "/usr/local/lib/python3.10/site-packages/sklearn/linear_model/_coordinate_descent.py:678: ConvergenceWarning: Objective did not converge. You might want to increase the number of iterations, check the scale of the features or consider increasing regularisation. Duality gap: 6.521e+05, tolerance: 1.545e+04\n",
            "  model = cd_fast.enet_coordinate_descent(\n",
            "/usr/local/lib/python3.10/site-packages/sklearn/linear_model/_coordinate_descent.py:678: ConvergenceWarning: Objective did not converge. You might want to increase the number of iterations, check the scale of the features or consider increasing regularisation. Duality gap: 6.430e+05, tolerance: 1.612e+04\n",
            "  model = cd_fast.enet_coordinate_descent(\n",
            "/usr/local/lib/python3.10/site-packages/sklearn/linear_model/_coordinate_descent.py:678: ConvergenceWarning: Objective did not converge. You might want to increase the number of iterations, check the scale of the features or consider increasing regularisation. Duality gap: 5.657e+04, tolerance: 1.582e+04\n",
            "  model = cd_fast.enet_coordinate_descent(\n",
            "/usr/local/lib/python3.10/site-packages/sklearn/linear_model/_coordinate_descent.py:678: ConvergenceWarning: Objective did not converge. You might want to increase the number of iterations, check the scale of the features or consider increasing regularisation. Duality gap: 2.606e+05, tolerance: 1.617e+04\n",
            "  model = cd_fast.enet_coordinate_descent(\n",
            "/usr/local/lib/python3.10/site-packages/sklearn/linear_model/_coordinate_descent.py:678: ConvergenceWarning: Objective did not converge. You might want to increase the number of iterations, check the scale of the features or consider increasing regularisation. Duality gap: 5.273e+05, tolerance: 1.474e+04\n",
            "  model = cd_fast.enet_coordinate_descent(\n",
            "/usr/local/lib/python3.10/site-packages/sklearn/linear_model/_coordinate_descent.py:678: ConvergenceWarning: Objective did not converge. You might want to increase the number of iterations, check the scale of the features or consider increasing regularisation. Duality gap: 2.217e+04, tolerance: 1.474e+04\n",
            "  model = cd_fast.enet_coordinate_descent(\n",
            "/usr/local/lib/python3.10/site-packages/sklearn/linear_model/_coordinate_descent.py:678: ConvergenceWarning: Objective did not converge. You might want to increase the number of iterations, check the scale of the features or consider increasing regularisation. Duality gap: 2.611e+05, tolerance: 1.545e+04\n",
            "  model = cd_fast.enet_coordinate_descent(\n",
            "/usr/local/lib/python3.10/site-packages/sklearn/linear_model/_coordinate_descent.py:678: ConvergenceWarning: Objective did not converge. You might want to increase the number of iterations, check the scale of the features or consider increasing regularisation. Duality gap: 4.713e+04, tolerance: 1.617e+04\n",
            "  model = cd_fast.enet_coordinate_descent(\n",
            "/usr/local/lib/python3.10/site-packages/sklearn/linear_model/_coordinate_descent.py:678: ConvergenceWarning: Objective did not converge. You might want to increase the number of iterations, check the scale of the features or consider increasing regularisation. Duality gap: 1.288e+05, tolerance: 1.474e+04\n",
            "  model = cd_fast.enet_coordinate_descent(\n",
            "/usr/local/lib/python3.10/site-packages/sklearn/linear_model/_coordinate_descent.py:678: ConvergenceWarning: Objective did not converge. You might want to increase the number of iterations, check the scale of the features or consider increasing regularisation. Duality gap: 1.386e+05, tolerance: 1.612e+04\n",
            "  model = cd_fast.enet_coordinate_descent(\n",
            "/usr/local/lib/python3.10/site-packages/sklearn/linear_model/_coordinate_descent.py:678: ConvergenceWarning: Objective did not converge. You might want to increase the number of iterations, check the scale of the features or consider increasing regularisation. Duality gap: 1.130e+05, tolerance: 1.474e+04\n",
            "  model = cd_fast.enet_coordinate_descent(\n",
            "/usr/local/lib/python3.10/site-packages/sklearn/linear_model/_coordinate_descent.py:678: ConvergenceWarning: Objective did not converge. You might want to increase the number of iterations, check the scale of the features or consider increasing regularisation. Duality gap: 1.955e+04, tolerance: 1.612e+04\n",
            "  model = cd_fast.enet_coordinate_descent(\n",
            "/usr/local/lib/python3.10/site-packages/sklearn/linear_model/_coordinate_descent.py:678: ConvergenceWarning: Objective did not converge. You might want to increase the number of iterations, check the scale of the features or consider increasing regularisation. Duality gap: 3.500e+04, tolerance: 1.474e+04\n",
            "  model = cd_fast.enet_coordinate_descent(\n",
            "/usr/local/lib/python3.10/site-packages/sklearn/linear_model/_coordinate_descent.py:678: ConvergenceWarning: Objective did not converge. You might want to increase the number of iterations, check the scale of the features or consider increasing regularisation. Duality gap: 1.183e+05, tolerance: 1.545e+04\n",
            "  model = cd_fast.enet_coordinate_descent(\n",
            "/usr/local/lib/python3.10/site-packages/sklearn/linear_model/_coordinate_descent.py:678: ConvergenceWarning: Objective did not converge. You might want to increase the number of iterations, check the scale of the features or consider increasing regularisation. Duality gap: 3.115e+04, tolerance: 1.617e+04\n",
            "  model = cd_fast.enet_coordinate_descent(\n",
            "/usr/local/lib/python3.10/site-packages/sklearn/linear_model/_coordinate_descent.py:678: ConvergenceWarning: Objective did not converge. You might want to increase the number of iterations, check the scale of the features or consider increasing regularisation. Duality gap: 4.589e+04, tolerance: 1.545e+04\n",
            "  model = cd_fast.enet_coordinate_descent(\n",
            "/usr/local/lib/python3.10/site-packages/sklearn/linear_model/_coordinate_descent.py:678: ConvergenceWarning: Objective did not converge. You might want to increase the number of iterations, check the scale of the features or consider increasing regularisation. Duality gap: 1.694e+04, tolerance: 1.617e+04\n",
            "  model = cd_fast.enet_coordinate_descent(\n",
            "/usr/local/lib/python3.10/site-packages/sklearn/linear_model/_coordinate_descent.py:678: ConvergenceWarning: Objective did not converge. You might want to increase the number of iterations, check the scale of the features or consider increasing regularisation. Duality gap: 2.327e+04, tolerance: 1.545e+04\n",
            "  model = cd_fast.enet_coordinate_descent(\n"
          ]
        },
        {
          "name": "stdout",
          "output_type": "stream",
          "text": [
            "{'alpha': 5, 'l1_ratio': 1}\n"
          ]
        }
      ],
      "source": [
        "from sklearn.linear_model import ElasticNet\n",
        "\n",
        "param = {\n",
        "    \"alpha\": [0.01, 0.05, 0.1, 0.2, 0.3, 1, 1.5, 2, 3, 4, 5],\n",
        "    \"l1_ratio\": [0.1, 0.2, 0.3, 0.4, 0.5, 0.6, 0.7, 0.8, 0.9, 1],\n",
        "}\n",
        "\n",
        "e_net = ElasticNet()\n",
        "\n",
        "grid_serach = GridSearchCV(\n",
        "    scoring=\"neg_mean_absolute_percentage_error\",\n",
        "    estimator=e_net,\n",
        "    param_grid=param,\n",
        "    cv=5,\n",
        "    n_jobs=-1,\n",
        ")\n",
        "\n",
        "grid_serach.fit(X_poly_transformed, y)\n",
        "\n",
        "print(grid_serach.best_params_)"
      ]
    },
    {
      "cell_type": "code",
      "execution_count": 71,
      "id": "5b62f35f",
      "metadata": {},
      "outputs": [
        {
          "name": "stdout",
          "output_type": "stream",
          "text": [
            "MAPE on train: 1.83%\n",
            "MAPE on test: 2.28%\n"
          ]
        }
      ],
      "source": [
        "model_save_results(\n",
        "    ElasticNet(alpha=5, l1_ratio=1),\n",
        "    X_poly_transformed,\n",
        "    y,\n",
        "    model_name=\"LinearRegression_PolynomialFeatures_ElasticNet\",\n",
        "    poly=\"Да\",\n",
        "    params={\"alpha\": 5, \"l1_ratio\": 1},\n",
        ")"
      ]
    },
    {
      "cell_type": "markdown",
      "id": "er2lAiE9QpAb",
      "metadata": {
        "id": "er2lAiE9QpAb"
      },
      "source": [
        "- Представлена ElasticNet регуляризация;\n",
        "- Результат, впрочем, совпал с l1;"
      ]
    },
    {
      "cell_type": "markdown",
      "id": "91c6e1d1",
      "metadata": {
        "id": "91c6e1d1"
      },
      "source": [
        "### Задание 8.5. (1 балл)\n",
        "\n",
        "Завершением вашей работы будет сводная таблица результатов, которую вы представите на презентации заказчику Василию.\n",
        "\n",
        "Составьте таблицу (DataFrame) со следующими столбцами (имена столбцов выберите самостоятельно):\n",
        "* Наименование модели.\n",
        "* Гиперпараметры (коэффициенты регуляризации, если таковые имеются), если нет — оставьте ячейку пустой.\n",
        "* Использовались ли полиномиальные признаки при построении модели (Да/Нет или True/False).\n",
        "* Значение выбранной метрики на тренировочных фолдах при кросс-валидации модели.\n",
        "* Значение выбранной метрики на валидационных фолдах при кросс-валидации модели.\n",
        "\n",
        "Сделайте финальный вывод по проделанной работе. Какая линейная модель из тех, что мы рассмотрели, показала наилучший результат с точки зрения качества на валидационных фолдах, а также с точки зрения переобученности?"
      ]
    },
    {
      "cell_type": "markdown",
      "id": "OsFRaKkF_nLq",
      "metadata": {
        "id": "OsFRaKkF_nLq"
      },
      "source": [
        "**Критерии оценивания:**\n",
        "\n",
        "- Задание выполнено верно, учтены все условия (**1 балл**): \n",
        "    * верно составлена сводная таблица итоговых результатов построенных ранее моделей с указанными в задании столбцами;\n",
        "    * приведены итоговые выводы по проделанной работе, указано, какая из рассмотренных моделей показала наилучший результат.\n",
        "\n",
        "- Задание выполнено неверно, не учтено одно или несколько условий (**0 баллов**)."
      ]
    },
    {
      "cell_type": "code",
      "execution_count": 72,
      "id": "e0538dab",
      "metadata": {},
      "outputs": [
        {
          "data": {
            "text/plain": [
              "{'LinearRegression': {'train_score': 4.021160454375212,\n",
              "  'test_score': 4.231002704164561,\n",
              "  'poly': 'Нет',\n",
              "  'params': 'null'},\n",
              " 'LinearRegression_PolynomialFeatures': {'train_score': 1.7732404749972865,\n",
              "  'test_score': 2.6808754502486583,\n",
              "  'poly': 'Да',\n",
              "  'params': 'null'},\n",
              " 'LinearRegression_PolynomialFeatures_Lasso': {'train_score': 1.827930571951013,\n",
              "  'test_score': 2.276158066543644,\n",
              "  'poly': 'Да',\n",
              "  'params': '{\"alpha\": 5}'},\n",
              " 'LinearRegression_PolynomialFeatures_Ridge': {'train_score': 1.7739393193862962,\n",
              "  'test_score': 2.672457369619562,\n",
              "  'poly': 'Да',\n",
              "  'params': '{\"alpha\": 0.2}'},\n",
              " 'LinearRegression_PolynomialFeatures_ElasticNet': {'train_score': 1.827930571951013,\n",
              "  'test_score': 2.276158066543644,\n",
              "  'poly': 'Да',\n",
              "  'params': '{\"alpha\": 5, \"l1_ratio\": 1}'}}"
            ]
          },
          "execution_count": 72,
          "metadata": {},
          "output_type": "execute_result"
        }
      ],
      "source": [
        "results"
      ]
    },
    {
      "cell_type": "code",
      "execution_count": 74,
      "id": "wRiys8lKQuqW",
      "metadata": {
        "id": "wRiys8lKQuqW"
      },
      "outputs": [
        {
          "data": {
            "text/html": [
              "<div>\n",
              "<style scoped>\n",
              "    .dataframe tbody tr th:only-of-type {\n",
              "        vertical-align: middle;\n",
              "    }\n",
              "\n",
              "    .dataframe tbody tr th {\n",
              "        vertical-align: top;\n",
              "    }\n",
              "\n",
              "    .dataframe thead th {\n",
              "        text-align: right;\n",
              "    }\n",
              "</style>\n",
              "<table border=\"1\" class=\"dataframe\">\n",
              "  <thead>\n",
              "    <tr style=\"text-align: right;\">\n",
              "      <th></th>\n",
              "      <th>train_score</th>\n",
              "      <th>test_score</th>\n",
              "      <th>delta</th>\n",
              "      <th>poly</th>\n",
              "      <th>params</th>\n",
              "    </tr>\n",
              "  </thead>\n",
              "  <tbody>\n",
              "    <tr>\n",
              "      <th>LinearRegression_PolynomialFeatures_Lasso</th>\n",
              "      <td>1.827931</td>\n",
              "      <td>2.276158</td>\n",
              "      <td>0.448227</td>\n",
              "      <td>Да</td>\n",
              "      <td>{\"alpha\": 5}</td>\n",
              "    </tr>\n",
              "    <tr>\n",
              "      <th>LinearRegression_PolynomialFeatures_ElasticNet</th>\n",
              "      <td>1.827931</td>\n",
              "      <td>2.276158</td>\n",
              "      <td>0.448227</td>\n",
              "      <td>Да</td>\n",
              "      <td>{\"alpha\": 5, \"l1_ratio\": 1}</td>\n",
              "    </tr>\n",
              "    <tr>\n",
              "      <th>LinearRegression_PolynomialFeatures_Ridge</th>\n",
              "      <td>1.773939</td>\n",
              "      <td>2.672457</td>\n",
              "      <td>0.898518</td>\n",
              "      <td>Да</td>\n",
              "      <td>{\"alpha\": 0.2}</td>\n",
              "    </tr>\n",
              "    <tr>\n",
              "      <th>LinearRegression_PolynomialFeatures</th>\n",
              "      <td>1.773240</td>\n",
              "      <td>2.680875</td>\n",
              "      <td>0.907635</td>\n",
              "      <td>Да</td>\n",
              "      <td>null</td>\n",
              "    </tr>\n",
              "    <tr>\n",
              "      <th>LinearRegression</th>\n",
              "      <td>4.021160</td>\n",
              "      <td>4.231003</td>\n",
              "      <td>0.209842</td>\n",
              "      <td>Нет</td>\n",
              "      <td>null</td>\n",
              "    </tr>\n",
              "  </tbody>\n",
              "</table>\n",
              "</div>"
            ],
            "text/plain": [
              "                                                train_score  test_score  \\\n",
              "LinearRegression_PolynomialFeatures_Lasso          1.827931    2.276158   \n",
              "LinearRegression_PolynomialFeatures_ElasticNet     1.827931    2.276158   \n",
              "LinearRegression_PolynomialFeatures_Ridge          1.773939    2.672457   \n",
              "LinearRegression_PolynomialFeatures                1.773240    2.680875   \n",
              "LinearRegression                                   4.021160    4.231003   \n",
              "\n",
              "                                                   delta poly  \\\n",
              "LinearRegression_PolynomialFeatures_Lasso       0.448227   Да   \n",
              "LinearRegression_PolynomialFeatures_ElasticNet  0.448227   Да   \n",
              "LinearRegression_PolynomialFeatures_Ridge       0.898518   Да   \n",
              "LinearRegression_PolynomialFeatures             0.907635   Да   \n",
              "LinearRegression                                0.209842  Нет   \n",
              "\n",
              "                                                                     params  \n",
              "LinearRegression_PolynomialFeatures_Lasso                      {\"alpha\": 5}  \n",
              "LinearRegression_PolynomialFeatures_ElasticNet  {\"alpha\": 5, \"l1_ratio\": 1}  \n",
              "LinearRegression_PolynomialFeatures_Ridge                    {\"alpha\": 0.2}  \n",
              "LinearRegression_PolynomialFeatures                                    null  \n",
              "LinearRegression                                                       null  "
            ]
          },
          "execution_count": 74,
          "metadata": {},
          "output_type": "execute_result"
        }
      ],
      "source": [
        "result_df = pd.DataFrame(results).T.sort_values(\n",
        "    by=[\"test_score\", \"train_score\"], ascending=True\n",
        ")\n",
        "result_df[[\"train_score\", \"test_score\"]] = result_df[\n",
        "    [\"train_score\", \"test_score\"]\n",
        "].astype(\"float64\")\n",
        "result_df[\"delta\"] = result_df[\"test_score\"] - result_df[\"train_score\"]\n",
        "\n",
        "result_df = result_df[[\"train_score\", \"test_score\", \"delta\", \"poly\", \"params\"]]\n",
        "\n",
        "result_df"
      ]
    },
    {
      "cell_type": "markdown",
      "id": "20624d05",
      "metadata": {},
      "source": [
        "В процессе исследования были построены модели на основе Линейной регрессии.\n",
        "\n",
        "- Модель без полиномиальных признаков, имеет самые худшие показатели предсказания;\n",
        "- Модель с регуляризации L2, хотя и показала результат лучше, чем LR без добавления полиномиальных признаков, построенная на тех же полиномиальных признаках, сильно проиграла L1 регуляризации;\n",
        "- Алгоритм оптимизации подобрал l1_ratio, фактически приравняв ElasticNet к L1;"
      ]
    },
    {
      "cell_type": "markdown",
      "id": "UP7_LSoEQsrA",
      "metadata": {
        "id": "UP7_LSoEQsrA"
      },
      "source": [
        "- Показали, что в данном случае, применение полиномиальных признаков сильно улучшают предсказательную способность линейной модели;\n",
        "- Наилучший результат L1 регуляризация на полиномиальных признаках 3 степени;"
      ]
    },
    {
      "cell_type": "code",
      "execution_count": null,
      "id": "752d4445-6a85-4cfb-b520-7b7b0f9a5b20",
      "metadata": {
        "id": "752d4445-6a85-4cfb-b520-7b7b0f9a5b20"
      },
      "outputs": [],
      "source": []
    }
  ],
  "metadata": {
    "colab": {
      "provenance": []
    },
    "kernelspec": {
      "display_name": "Python 3.10.8 ('base')",
      "language": "python",
      "name": "python3"
    },
    "language_info": {
      "codemirror_mode": {
        "name": "ipython",
        "version": 3
      },
      "file_extension": ".py",
      "mimetype": "text/x-python",
      "name": "python",
      "nbconvert_exporter": "python",
      "pygments_lexer": "ipython3",
      "version": "3.10.12"
    },
    "vscode": {
      "interpreter": {
        "hash": "86c56a74836ad344b00594bf6f38fa6a676a207ceefe20d101fbc465800ccb8d"
      }
    }
  },
  "nbformat": 4,
  "nbformat_minor": 5
}
